{
 "cells": [
  {
   "cell_type": "code",
   "execution_count": 1,
   "id": "418e071b",
   "metadata": {},
   "outputs": [],
   "source": [
    "# Common imports\n",
    "import numpy as np\n",
    "import os\n",
    "import pandas as pd \n",
    "import seaborn as sns\n",
    "import matplotlib.pyplot as plt\n",
    "import matplotlib as mpl\n",
    "import scikitplot as skplt\n",
    "import warnings \n",
    "import matplotlib.pyplot as plt\n",
    "\n",
    "warnings.filterwarnings('ignore')\n",
    "\n",
    "# To plot pretty figures\n",
    "\n",
    "mpl.rc('axes', labelsize=14)\n",
    "mpl.rc('xtick', labelsize=12)\n",
    "mpl.rc('ytick', labelsize=12)\n",
    "\n",
    "# Where to save the figures\n",
    "PROJECT_ROOT_DIR = \".\"\n",
    "CHAPTER_ID = \"unsupervised_learning\"\n",
    "IMAGES_PATH = os.path.join(PROJECT_ROOT_DIR, \"images\", CHAPTER_ID)\n",
    "os.makedirs(IMAGES_PATH, exist_ok=True)\n",
    "\n",
    "\n",
    "def save_fig(fig_id, tight_layout=True, fig_extension=\"png\", resolution=300):\n",
    "    path = os.path.join(IMAGES_PATH, fig_id + \".\" + fig_extension)\n",
    "    print(\"Saving figure\", fig_id)\n",
    "    if tight_layout:\n",
    "        plt.tight_layout()\n",
    "    plt.savefig(path, format=fig_extension, dpi=resolution)\n"
   ]
  },
  {
   "cell_type": "markdown",
   "id": "bdc9f419",
   "metadata": {},
   "source": [
    "# KMEANS Clustering"
   ]
  },
  {
   "cell_type": "code",
   "execution_count": 2,
   "id": "618be953",
   "metadata": {},
   "outputs": [],
   "source": [
    "from sklearn.datasets import make_blobs\n",
    "\n",
    "blob_centers = np.array(\n",
    "    [[ 0.2,  2.3],\n",
    "     [-1.5 ,  2.3],\n",
    "     [-2.8,  1.8],\n",
    "     [-2.8,  2.8],\n",
    "     [-2.8,  1.3]])\n",
    "blob_std = np.array([0.4, 0.3, 0.1, 0.1, 0.1])\n",
    "\n",
    "import pandas as pd\n",
    "\n",
    "# Load your dataset using pandas\n",
    "df = pd.read_csv('updated_datasetknn.csv')\n",
    "\n",
    "# Separate the input features (X) and the target variable (y) from the dataset\n",
    "X = df.drop('FBS', axis=1)\n",
    "y = df['FBS']\n",
    "\n"
   ]
  },
  {
   "cell_type": "code",
   "execution_count": 3,
   "id": "0c5cfd75",
   "metadata": {},
   "outputs": [
    {
     "data": {
      "text/html": [
       "<div>\n",
       "<style scoped>\n",
       "    .dataframe tbody tr th:only-of-type {\n",
       "        vertical-align: middle;\n",
       "    }\n",
       "\n",
       "    .dataframe tbody tr th {\n",
       "        vertical-align: top;\n",
       "    }\n",
       "\n",
       "    .dataframe thead th {\n",
       "        text-align: right;\n",
       "    }\n",
       "</style>\n",
       "<table border=\"1\" class=\"dataframe\">\n",
       "  <thead>\n",
       "    <tr style=\"text-align: right;\">\n",
       "      <th></th>\n",
       "      <th>Age</th>\n",
       "      <th>Smoke</th>\n",
       "      <th>Dia_family_mem</th>\n",
       "      <th>Height</th>\n",
       "      <th>Weight</th>\n",
       "      <th>BMI</th>\n",
       "      <th>Pulse</th>\n",
       "      <th>Date of detection</th>\n",
       "      <th>systolic</th>\n",
       "      <th>diastolic</th>\n",
       "    </tr>\n",
       "  </thead>\n",
       "  <tbody>\n",
       "    <tr>\n",
       "      <th>0</th>\n",
       "      <td>32.0</td>\n",
       "      <td>0.0</td>\n",
       "      <td>8.000000</td>\n",
       "      <td>170.0</td>\n",
       "      <td>69.0</td>\n",
       "      <td>23.88</td>\n",
       "      <td>76.0</td>\n",
       "      <td>2012.000000</td>\n",
       "      <td>120.0</td>\n",
       "      <td>80.0</td>\n",
       "    </tr>\n",
       "    <tr>\n",
       "      <th>1</th>\n",
       "      <td>60.0</td>\n",
       "      <td>1.0</td>\n",
       "      <td>0.000000</td>\n",
       "      <td>154.0</td>\n",
       "      <td>72.0</td>\n",
       "      <td>30.36</td>\n",
       "      <td>76.0</td>\n",
       "      <td>2013.666667</td>\n",
       "      <td>120.0</td>\n",
       "      <td>80.0</td>\n",
       "    </tr>\n",
       "    <tr>\n",
       "      <th>2</th>\n",
       "      <td>50.0</td>\n",
       "      <td>1.0</td>\n",
       "      <td>7.000000</td>\n",
       "      <td>165.0</td>\n",
       "      <td>57.0</td>\n",
       "      <td>20.94</td>\n",
       "      <td>76.0</td>\n",
       "      <td>2019.000000</td>\n",
       "      <td>120.0</td>\n",
       "      <td>80.0</td>\n",
       "    </tr>\n",
       "    <tr>\n",
       "      <th>3</th>\n",
       "      <td>48.0</td>\n",
       "      <td>1.0</td>\n",
       "      <td>6.000000</td>\n",
       "      <td>148.0</td>\n",
       "      <td>70.0</td>\n",
       "      <td>31.96</td>\n",
       "      <td>72.0</td>\n",
       "      <td>2015.000000</td>\n",
       "      <td>150.0</td>\n",
       "      <td>90.0</td>\n",
       "    </tr>\n",
       "    <tr>\n",
       "      <th>4</th>\n",
       "      <td>44.0</td>\n",
       "      <td>1.0</td>\n",
       "      <td>8.000000</td>\n",
       "      <td>163.0</td>\n",
       "      <td>65.0</td>\n",
       "      <td>24.46</td>\n",
       "      <td>76.0</td>\n",
       "      <td>2019.000000</td>\n",
       "      <td>120.0</td>\n",
       "      <td>80.0</td>\n",
       "    </tr>\n",
       "    <tr>\n",
       "      <th>...</th>\n",
       "      <td>...</td>\n",
       "      <td>...</td>\n",
       "      <td>...</td>\n",
       "      <td>...</td>\n",
       "      <td>...</td>\n",
       "      <td>...</td>\n",
       "      <td>...</td>\n",
       "      <td>...</td>\n",
       "      <td>...</td>\n",
       "      <td>...</td>\n",
       "    </tr>\n",
       "    <tr>\n",
       "      <th>664</th>\n",
       "      <td>35.0</td>\n",
       "      <td>1.0</td>\n",
       "      <td>8.000000</td>\n",
       "      <td>152.0</td>\n",
       "      <td>68.0</td>\n",
       "      <td>29.43</td>\n",
       "      <td>96.0</td>\n",
       "      <td>2013.000000</td>\n",
       "      <td>120.0</td>\n",
       "      <td>80.0</td>\n",
       "    </tr>\n",
       "    <tr>\n",
       "      <th>665</th>\n",
       "      <td>46.0</td>\n",
       "      <td>1.0</td>\n",
       "      <td>6.666667</td>\n",
       "      <td>169.0</td>\n",
       "      <td>72.0</td>\n",
       "      <td>25.21</td>\n",
       "      <td>76.0</td>\n",
       "      <td>2009.000000</td>\n",
       "      <td>120.0</td>\n",
       "      <td>80.0</td>\n",
       "    </tr>\n",
       "    <tr>\n",
       "      <th>666</th>\n",
       "      <td>62.0</td>\n",
       "      <td>1.0</td>\n",
       "      <td>6.000000</td>\n",
       "      <td>150.0</td>\n",
       "      <td>48.0</td>\n",
       "      <td>21.33</td>\n",
       "      <td>100.0</td>\n",
       "      <td>2005.000000</td>\n",
       "      <td>120.0</td>\n",
       "      <td>80.0</td>\n",
       "    </tr>\n",
       "    <tr>\n",
       "      <th>667</th>\n",
       "      <td>48.0</td>\n",
       "      <td>1.0</td>\n",
       "      <td>3.000000</td>\n",
       "      <td>160.0</td>\n",
       "      <td>61.0</td>\n",
       "      <td>23.83</td>\n",
       "      <td>110.0</td>\n",
       "      <td>2000.000000</td>\n",
       "      <td>120.0</td>\n",
       "      <td>80.0</td>\n",
       "    </tr>\n",
       "    <tr>\n",
       "      <th>668</th>\n",
       "      <td>42.0</td>\n",
       "      <td>1.0</td>\n",
       "      <td>8.000000</td>\n",
       "      <td>154.0</td>\n",
       "      <td>57.0</td>\n",
       "      <td>24.03</td>\n",
       "      <td>100.0</td>\n",
       "      <td>2012.000000</td>\n",
       "      <td>120.0</td>\n",
       "      <td>80.0</td>\n",
       "    </tr>\n",
       "  </tbody>\n",
       "</table>\n",
       "<p>669 rows × 10 columns</p>\n",
       "</div>"
      ],
      "text/plain": [
       "      Age  Smoke  Dia_family_mem  Height  Weight    BMI  Pulse  \\\n",
       "0    32.0    0.0        8.000000   170.0    69.0  23.88   76.0   \n",
       "1    60.0    1.0        0.000000   154.0    72.0  30.36   76.0   \n",
       "2    50.0    1.0        7.000000   165.0    57.0  20.94   76.0   \n",
       "3    48.0    1.0        6.000000   148.0    70.0  31.96   72.0   \n",
       "4    44.0    1.0        8.000000   163.0    65.0  24.46   76.0   \n",
       "..    ...    ...             ...     ...     ...    ...    ...   \n",
       "664  35.0    1.0        8.000000   152.0    68.0  29.43   96.0   \n",
       "665  46.0    1.0        6.666667   169.0    72.0  25.21   76.0   \n",
       "666  62.0    1.0        6.000000   150.0    48.0  21.33  100.0   \n",
       "667  48.0    1.0        3.000000   160.0    61.0  23.83  110.0   \n",
       "668  42.0    1.0        8.000000   154.0    57.0  24.03  100.0   \n",
       "\n",
       "     Date of detection  systolic  diastolic  \n",
       "0          2012.000000     120.0       80.0  \n",
       "1          2013.666667     120.0       80.0  \n",
       "2          2019.000000     120.0       80.0  \n",
       "3          2015.000000     150.0       90.0  \n",
       "4          2019.000000     120.0       80.0  \n",
       "..                 ...       ...        ...  \n",
       "664        2013.000000     120.0       80.0  \n",
       "665        2009.000000     120.0       80.0  \n",
       "666        2005.000000     120.0       80.0  \n",
       "667        2000.000000     120.0       80.0  \n",
       "668        2012.000000     120.0       80.0  \n",
       "\n",
       "[669 rows x 10 columns]"
      ]
     },
     "execution_count": 3,
     "metadata": {},
     "output_type": "execute_result"
    }
   ],
   "source": [
    "X"
   ]
  },
  {
   "cell_type": "code",
   "execution_count": 4,
   "id": "65e4c810",
   "metadata": {},
   "outputs": [
    {
     "data": {
      "text/plain": [
       "0      15.7\n",
       "1       7.3\n",
       "2      17.1\n",
       "3       8.5\n",
       "4       7.9\n",
       "       ... \n",
       "664    14.0\n",
       "665    10.3\n",
       "666    18.5\n",
       "667    13.8\n",
       "668    13.4\n",
       "Name: FBS, Length: 669, dtype: float64"
      ]
     },
     "execution_count": 4,
     "metadata": {},
     "output_type": "execute_result"
    }
   ],
   "source": [
    "y"
   ]
  },
  {
   "cell_type": "code",
   "execution_count": 5,
   "id": "be9885fd",
   "metadata": {},
   "outputs": [],
   "source": [
    "# def plot_clusters(X, y=None):\n",
    "#     plt.scatter(X[:, 0], X[:, 1], c=y, s=1)\n",
    "#     plt.xlabel(\"$x_1$\", fontsize=14)\n",
    "#     plt.ylabel(\"$x_2$\", fontsize=14, rotation=0)\n",
    "# def plot_clusters(X, y=None):\n",
    "#     plt.scatter(X[:, 0], X[:, 1], c=y, s=1)\n",
    "#     plt.xlabel(\"$x_1$\", fontsize=14)\n",
    "#     plt.ylabel(\"$x_2$\", fontsize=14, rotation=0)"
   ]
  },
  {
   "cell_type": "code",
   "execution_count": 6,
   "id": "a82cee34",
   "metadata": {},
   "outputs": [
    {
     "data": {
      "image/png": "[encoded data removed]",
      "text/plain": [
       "<Figure size 1000x600 with 1 Axes>"
      ]
     },
     "metadata": {},
     "output_type": "display_data"
    }
   ],
   "source": [
    "import matplotlib.pyplot as plt\n",
    "\n",
    "def plot_clusters(X, y=None):\n",
    "    plt.scatter(X[:, 0], X[:, 1], c=y, s=1)\n",
    "    plt.xlabel(\"$x_1$\", fontsize=14)\n",
    "    plt.ylabel(\"$x_2$\", fontsize=14, rotation=0)\n",
    "\n",
    "plt.figure(figsize=(10, 6))  # Set a smaller figure size (e.g., 10 inches wide and 6 inches tall)\n",
    "plot_clusters(X.to_numpy(), y)  # Convert X to a NumPy array\n",
    "plt.savefig(\"blobs_plot.png\")  # Save the plot to a file\n",
    "plt.show()\n"
   ]
  },
  {
   "cell_type": "markdown",
   "id": "6563682f",
   "metadata": {},
   "source": [
    "# Clustering into 5 clusters"
   ]
  },
  {
   "cell_type": "code",
   "execution_count": 7,
   "id": "17f7deb5",
   "metadata": {},
   "outputs": [],
   "source": [
    "from sklearn.cluster import AgglomerativeClustering\n",
    "\n",
    "k = 5\n",
    "agg_clustering = AgglomerativeClustering(n_clusters=k)\n",
    "y_pred = agg_clustering.fit_predict(X)\n"
   ]
  },
  {
   "cell_type": "code",
   "execution_count": 8,
   "id": "cdfdb321",
   "metadata": {},
   "outputs": [
    {
     "data": {
      "text/plain": [
       "array([1, 1, 1, 2, 1, 0, 1, 1, 1, 0, 4, 1, 1, 1, 1, 1, 0, 0, 0, 1, 1, 4,\n",
       "       2, 4, 2, 1, 1, 1, 1, 0, 1, 1, 1, 0, 1, 0, 4, 1, 1, 4, 4, 1, 1, 1,\n",
       "       2, 1, 1, 2, 4, 1, 1, 0, 1, 1, 1, 4, 0, 2, 2, 1, 1, 1, 1, 0, 1, 2,\n",
       "       1, 1, 1, 0, 1, 2, 1, 1, 2, 1, 4, 1, 4, 0, 1, 1, 2, 0, 4, 0, 1, 4,\n",
       "       4, 1, 4, 2, 1, 4, 0, 1, 1, 2, 4, 1, 2, 1, 1, 1, 1, 0, 1, 1, 2, 1,\n",
       "       2, 4, 1, 1, 1, 2, 2, 0, 1, 4, 2, 1, 4, 1, 4, 0, 0, 1, 0, 2, 1, 0,\n",
       "       0, 1, 0, 1, 0, 4, 1, 4, 1, 1, 1, 4, 2, 0, 1, 1, 2, 4, 1, 1, 0, 4,\n",
       "       2, 0, 2, 1, 1, 1, 0, 2, 1, 4, 0, 2, 2, 0, 0, 4, 1, 0, 4, 1, 0, 4,\n",
       "       1, 1, 1, 2, 1, 1, 4, 0, 0, 2, 1, 2, 2, 1, 0, 1, 0, 4, 4, 1, 1, 0,\n",
       "       0, 4, 1, 2, 4, 2, 2, 2, 2, 2, 0, 1, 2, 4, 1, 1, 1, 2, 0, 1, 1, 4,\n",
       "       0, 4, 2, 0, 2, 4, 1, 1, 1, 2, 1, 2, 4, 1, 2, 0, 2, 2, 1, 2, 4, 4,\n",
       "       4, 1, 1, 0, 1, 4, 4, 0, 0, 2, 1, 2, 2, 1, 2, 1, 0, 4, 1, 4, 1, 0,\n",
       "       0, 2, 4, 1, 1, 0, 2, 4, 4, 0, 1, 1, 2, 1, 2, 4, 4, 0, 4, 1, 1, 4,\n",
       "       1, 2, 1, 1, 2, 4, 0, 2, 2, 0, 1, 2, 2, 1, 1, 0, 4, 1, 1, 1, 1, 1,\n",
       "       4, 2, 1, 1, 1, 1, 0, 2, 1, 1, 4, 1, 0, 0, 0, 0, 1, 0, 4, 0, 0, 4,\n",
       "       1, 2, 1, 2, 1, 1, 0, 0, 1, 1, 4, 4, 1, 0, 1, 1, 1, 1, 2, 1, 2, 1,\n",
       "       1, 0, 1, 4, 4, 2, 4, 0, 2, 0, 1, 1, 4, 2, 2, 0, 2, 2, 4, 2, 0, 0,\n",
       "       1, 1, 4, 2, 1, 1, 2, 0, 2, 1, 1, 0, 2, 2, 1, 1, 1, 1, 1, 4, 0, 2,\n",
       "       2, 1, 1, 1, 2, 4, 3, 2, 1, 4, 0, 1, 1, 1, 0, 0, 2, 4, 4, 0, 4, 0,\n",
       "       4, 4, 1, 1, 0, 1, 1, 2, 1, 4, 1, 2, 1, 2, 2, 1, 1, 1, 4, 0, 4, 0,\n",
       "       0, 0, 0, 2, 1, 1, 1, 0, 1, 1, 1, 4, 1, 4, 2, 4, 1, 2, 0, 2, 1, 0,\n",
       "       2, 1, 1, 2, 1, 1, 2, 1, 1, 0, 4, 1, 1, 4, 2, 1, 1, 2, 4, 4, 1, 1,\n",
       "       4, 0, 1, 4, 0, 2, 1, 1, 4, 4, 2, 4, 1, 1, 4, 4, 2, 0, 0, 4, 2, 2,\n",
       "       4, 4, 1, 0, 2, 2, 1, 2, 4, 1, 1, 4, 1, 1, 4, 1, 2, 1, 2, 1, 1, 4,\n",
       "       1, 1, 0, 1, 4, 2, 0, 1, 4, 1, 4, 4, 4, 0, 2, 0, 0, 4, 0, 1, 4, 1,\n",
       "       1, 1, 0, 1, 2, 0, 1, 0, 0, 4, 4, 2, 0, 1, 0, 0, 0, 1, 4, 1, 1, 4,\n",
       "       1, 2, 1, 2, 4, 1, 1, 0, 0, 2, 2, 0, 2, 4, 0, 2, 0, 0, 1, 2, 4, 0,\n",
       "       1, 4, 2, 1, 1, 2, 4, 0, 4, 4, 4, 1, 2, 4, 1, 4, 4, 1, 4, 1, 0, 0,\n",
       "       1, 2, 4, 1, 4, 1, 4, 0, 1, 4, 1, 1, 2, 1, 0, 2, 4, 1, 0, 0, 0, 0,\n",
       "       1, 1, 0, 0, 1, 0, 0, 4, 1, 4, 1, 2, 1, 0, 1, 1, 2, 0, 1, 1, 2, 4,\n",
       "       1, 2, 1, 4, 0, 1, 0, 0, 0], dtype=int64)"
      ]
     },
     "execution_count": 8,
     "metadata": {},
     "output_type": "execute_result"
    }
   ],
   "source": [
    "y_pred"
   ]
  },
  {
   "cell_type": "code",
   "execution_count": null,
   "id": "4e28aaa4",
   "metadata": {},
   "outputs": [],
   "source": []
  },
  {
   "cell_type": "code",
   "execution_count": null,
   "id": "f7b5e902",
   "metadata": {},
   "outputs": [],
   "source": []
  },
  {
   "cell_type": "code",
   "execution_count": null,
   "id": "bc6ef611",
   "metadata": {},
   "outputs": [],
   "source": []
  },
  {
   "cell_type": "code",
   "execution_count": 9,
   "id": "2b384cfb",
   "metadata": {},
   "outputs": [
    {
     "name": "stdout",
     "output_type": "stream",
     "text": [
      "Cluster 1 center: Age                    38.744526\n",
      "Smoke                   0.963504\n",
      "Dia_family_mem          5.277372\n",
      "Height                149.073479\n",
      "Weight                 58.154501\n",
      "BMI                    26.975766\n",
      "Pulse                  84.190268\n",
      "Date of detection    2009.593674\n",
      "systolic              119.367397\n",
      "diastolic              78.637470\n",
      "dtype: float64\n",
      "Cluster 2 center: Age                    45.158088\n",
      "Smoke                   0.849265\n",
      "Dia_family_mem          5.720588\n",
      "Height                163.566789\n",
      "Weight                 71.754289\n",
      "BMI                    26.910343\n",
      "Pulse                  77.067157\n",
      "Date of detection    2009.562500\n",
      "systolic              121.213235\n",
      "diastolic              80.300245\n",
      "dtype: float64\n",
      "Cluster 3 center: Age                    52.828125\n",
      "Smoke                   0.942708\n",
      "Dia_family_mem          5.367188\n",
      "Height                157.010677\n",
      "Weight                 61.324219\n",
      "BMI                    25.033620\n",
      "Pulse                  78.542188\n",
      "Date of detection    2008.263021\n",
      "systolic              145.703125\n",
      "diastolic              89.072917\n",
      "dtype: float64\n",
      "Cluster 4 center: Age                    42.0\n",
      "Smoke                   1.0\n",
      "Dia_family_mem          8.0\n",
      "Height                450.0\n",
      "Weight                 75.0\n",
      "BMI                     3.7\n",
      "Pulse                  74.0\n",
      "Date of detection    2011.0\n",
      "systolic              120.0\n",
      "diastolic              70.0\n",
      "dtype: float64\n",
      "Cluster 5 center: Age                    60.534351\n",
      "Smoke                   0.933842\n",
      "Dia_family_mem          5.829517\n",
      "Height                152.684478\n",
      "Weight                 59.572519\n",
      "BMI                    25.620611\n",
      "Pulse                  78.289567\n",
      "Date of detection    2007.536896\n",
      "systolic              120.343511\n",
      "diastolic              79.020356\n",
      "dtype: float64\n"
     ]
    }
   ],
   "source": [
    "from sklearn.cluster import AgglomerativeClustering\n",
    "\n",
    "# Create an instance of AgglomerativeClustering\n",
    "n_clusters = 5  # Specify the number of clusters\n",
    "agg_clustering = AgglomerativeClustering(n_clusters=n_clusters)\n",
    "\n",
    "# Fit the data and obtain the cluster labels\n",
    "labels = agg_clustering.fit_predict(X)\n",
    "\n",
    "# Compute the cluster centers (average of the data points in each cluster)\n",
    "cluster_centers = []\n",
    "for cluster_label in range(n_clusters):\n",
    "    cluster_points = X[labels == cluster_label]\n",
    "    cluster_center = cluster_points.mean(axis=0)\n",
    "    cluster_centers.append(cluster_center)\n",
    "\n",
    "# Print the cluster centers\n",
    "for i, center in enumerate(cluster_centers):\n",
    "    print(f\"Cluster {i+1} center: {center}\")\n"
   ]
  },
  {
   "cell_type": "markdown",
   "id": "de96ec36",
   "metadata": {},
   "source": [
    "# Decision Boundaries using Voronoi diagram"
   ]
  },
  {
   "cell_type": "code",
   "execution_count": 10,
   "id": "e9c50b2d",
   "metadata": {},
   "outputs": [
    {
     "data": {
      "image/png": "[encoded data removed]",
      "text/plain": [
       "<Figure size 800x400 with 1 Axes>"
      ]
     },
     "metadata": {},
     "output_type": "display_data"
    }
   ],
   "source": [
    "import numpy as np\n",
    "import matplotlib.pyplot as plt\n",
    "\n",
    "def plot_data(X):\n",
    "    plt.plot(X[:, 0], X[:, 1], 'k.', markersize=2)\n",
    "\n",
    "def plot_centroids(centroids, weights=None, circle_color='w', cross_color='k'):\n",
    "    if weights is not None:\n",
    "        centroids = centroids[weights > weights.max() / 10]\n",
    "    plt.scatter(centroids[:, 0], centroids[:, 1],\n",
    "                marker='o', s=35, linewidths=8,\n",
    "                color=circle_color, zorder=10, alpha=0.9)\n",
    "    plt.scatter(centroids[:, 0], centroids[:, 1],\n",
    "                marker='x', s=2, linewidths=12,\n",
    "                color=cross_color, zorder=11, alpha=1)\n",
    "\n",
    "def plot_decision_boundaries(clusterer, X, resolution=1000, show_centroids=True,\n",
    "                             show_xlabels=True, show_ylabels=True):\n",
    "    mins = X.min(axis=0) - 0.1\n",
    "    maxs = X.max(axis=0) + 0.1\n",
    "    xx, yy = np.meshgrid(np.linspace(mins[0], maxs[0], resolution),\n",
    "                         np.linspace(mins[1], maxs[1], resolution))\n",
    "    Z = clusterer.predict(np.c_[xx.ravel(), yy.ravel()])\n",
    "    Z = Z.reshape(xx.shape)\n",
    "\n",
    "    plt.contourf(Z, extent=(mins[0], maxs[0], mins[1], maxs[1]),\n",
    "                cmap=\"Pastel2\")\n",
    "    plt.contour(Z, extent=(mins[0], maxs[0], mins[1], maxs[1]),\n",
    "                linewidths=1, colors='k')\n",
    "    plot_data(X)\n",
    "    if show_centroids:\n",
    "        plot_centroids(clusterer.cluster_centers_)\n",
    "\n",
    "    if show_xlabels:\n",
    "        plt.xlabel(\"$x_1$\", fontsize=14)\n",
    "    else:\n",
    "        plt.tick_params(labelbottom=False)\n",
    "    if show_ylabels:\n",
    "        plt.ylabel(\"$x_2$\", fontsize=14, rotation=0)\n",
    "    else:\n",
    "        plt.tick_params(labelleft=False)\n",
    "\n",
    "# Generate random data\n",
    "np.random.seed(42)\n",
    "X = np.random.rand(100, 2)\n",
    "\n",
    "# Plot the data points\n",
    "plt.figure(figsize=(8, 4))\n",
    "plot_data(X)\n",
    "\n",
    "# Save the figure\n",
    "plt.savefig(\"voronoi_plot.png\")\n",
    "\n",
    "# Show the plot\n",
    "plt.show()\n"
   ]
  },
  {
   "cell_type": "code",
   "execution_count": 11,
   "id": "2cdd88b3",
   "metadata": {},
   "outputs": [],
   "source": [
    "# import matplotlib.pyplot as plt\n",
    "\n",
    "# # Create a figure with a specific size\n",
    "# plt.figure(figsize=(8, 4))\n",
    "# def plot_data(X):\n",
    "#     plt.plot(X[:, 0], X[:, 1], 'k.', markersize=2)\n",
    "\n",
    "\n",
    "# # Plot the data points\n",
    "# plot_data(X)\n",
    "\n",
    "# # Save the figure\n",
    "# plt.savefig(\"voronoi_plot.png\")\n",
    "\n",
    "# # Display the figure\n",
    "# plt.show()\n"
   ]
  },
  {
   "cell_type": "markdown",
   "id": "733351b1",
   "metadata": {},
   "source": [
    "# The KMEANS Algorithm"
   ]
  },
  {
   "cell_type": "markdown",
   "id": "adb6da47",
   "metadata": {},
   "source": [
    "The K-Means algorithm is one of the fastest clustering algorithms, and also one of the simplest:\n",
    "\n",
    " - First initialize  centroids randomly:  distinct instances are chosen randomly from the dataset and the centroids are placed at their locations.\n",
    " - Repeat until convergence (i.e., until the centroids stop moving):\n",
    "  - Assign each instance to the closest centroid.\n",
    "  - Update the centroids to be the mean of the instances that are assigned to them.\n",
    "\n",
    "The KMeans class applies an optimized algorithm by default. To get the original K-Means algorithm (for educational purposes only), you must set init=\"random\", n_init=1and algorithm=\"full\". These hyperparameters will be explained below.\n",
    "\n",
    "Let's run the K-Means algorithm for 1, 2 and 3 iterations, to see how the centroids move around:"
   ]
  },
  {
   "cell_type": "code",
   "execution_count": 12,
   "id": "8128d8f0",
   "metadata": {},
   "outputs": [
    {
     "name": "stdout",
     "output_type": "stream",
     "text": [
      "Iteration 1:\n",
      "Labels: [0 0 2 2 0 2 4 2 1 1 1 3 0 2 1 1 2 0 3 1 2 2 3 1 1 0 0 0 2 2 1 4 3 2 2 4 2\n",
      " 0 4 3 0 3 3 0 4 2 4 4 1 2 2 1 4 1 3 3 0 0 4 4 0 3 3 0 2 1 2 4 0 0 4 1 3 1\n",
      " 2 4 2 4 0 3 1 1 2 3 2 1 1 1 1 4 3 0 3 4 1 2 0 3 0 0]\n",
      "Centroids:\n",
      " [[0.73259852 0.79513482]\n",
      " [0.51398901 0.34183292]\n",
      " [0.08331226 0.58984263]\n",
      " [0.2930943  0.29550076]\n",
      " [0.86129271 0.31835432]]\n",
      "\n",
      "Iteration 2:\n",
      "Labels: [0 0 3 2 0 2 4 3 3 1 1 3 0 2 1 1 2 0 3 1 2 2 2 3 1 0 0 0 3 3 3 4 2 2 2 4 2\n",
      " 0 4 3 0 3 3 0 4 2 0 4 1 3 2 3 4 0 3 3 0 0 4 4 0 3 3 0 2 3 3 4 0 0 4 1 3 1\n",
      " 3 4 2 4 0 2 2 1 2 3 2 4 1 1 1 4 3 0 2 4 1 2 0 3 0 0]\n",
      "Centroids:\n",
      " [[0.72034731 0.78374143]\n",
      " [0.57968787 0.29064481]\n",
      " [0.12623486 0.72415427]\n",
      " [0.25408135 0.24247246]\n",
      " [0.85609141 0.28431124]]\n",
      "\n",
      "Iteration 3:\n",
      "Labels: [2 0 3 2 0 2 4 3 2 1 1 3 0 2 1 1 2 0 3 1 2 2 2 2 1 0 0 0 3 3 3 4 2 2 2 4 2\n",
      " 0 4 3 0 3 3 0 4 2 0 4 1 3 2 3 4 2 3 3 0 0 4 4 0 3 3 0 2 3 3 4 0 2 4 1 3 1\n",
      " 3 4 2 4 0 2 2 1 2 3 2 1 1 1 1 4 3 0 2 0 1 2 0 3 0 0]\n",
      "Centroids:\n",
      " [[0.77077295 0.75849762]\n",
      " [0.58621297 0.27237435]\n",
      " [0.16982454 0.72808122]\n",
      " [0.2493948  0.21812987]\n",
      " [0.87161972 0.28408508]]\n"
     ]
    }
   ],
   "source": [
    "import numpy as np\n",
    "\n",
    "def initialize_centroids(X, n_clusters, random_state=0):\n",
    "    np.random.seed(random_state)\n",
    "    indices = np.random.choice(X.shape[0], n_clusters, replace=False)\n",
    "    return X[indices]\n",
    "\n",
    "def assign_labels(X, centroids):\n",
    "    distances = np.linalg.norm(X[:, np.newaxis] - centroids, axis=2)\n",
    "    return np.argmin(distances, axis=1)\n",
    "\n",
    "def update_centroids(X, labels, n_clusters):\n",
    "    centroids = np.empty((n_clusters, X.shape[1]))\n",
    "    for i in range(n_clusters):\n",
    "        centroids[i] = np.mean(X[labels == i], axis=0)\n",
    "    return centroids\n",
    "\n",
    "def kmeans_iteration(X, n_clusters, max_iter, random_state=0):\n",
    "    centroids = initialize_centroids(X, n_clusters, random_state)\n",
    "    for _ in range(max_iter):\n",
    "        labels = assign_labels(X, centroids)\n",
    "        centroids = update_centroids(X, labels, n_clusters)\n",
    "    return labels, centroids\n",
    "\n",
    "# Generate random data\n",
    "np.random.seed(42)\n",
    "X = np.random.rand(100, 2)\n",
    "\n",
    "# Perform iterations with different max_iter values\n",
    "labels_iter1, centroids_iter1 = kmeans_iteration(X, n_clusters=5, max_iter=1, random_state=0)\n",
    "labels_iter2, centroids_iter2 = kmeans_iteration(X, n_clusters=5, max_iter=2, random_state=0)\n",
    "labels_iter3, centroids_iter3 = kmeans_iteration(X, n_clusters=5, max_iter=3, random_state=0)\n",
    "\n",
    "print(\"Iteration 1:\")\n",
    "print(\"Labels:\", labels_iter1)\n",
    "print(\"Centroids:\\n\", centroids_iter1)\n",
    "print()\n",
    "print(\"Iteration 2:\")\n",
    "print(\"Labels:\", labels_iter2)\n",
    "print(\"Centroids:\\n\", centroids_iter2)\n",
    "print()\n",
    "print(\"Iteration 3:\")\n",
    "print(\"Labels:\", labels_iter3)\n",
    "print(\"Centroids:\\n\", centroids_iter3)\n",
    "\n"
   ]
  },
  {
   "cell_type": "code",
   "execution_count": 13,
   "id": "ffd39ba9",
   "metadata": {},
   "outputs": [],
   "source": [
    "def plot_decision_boundaries(labels, X, resolution=1000, show_centroids=True,\n",
    "                             show_xlabels=True, show_ylabels=True):\n",
    "    mins = X.min(axis=0) - 0.1\n",
    "    maxs = X.max(axis=0) + 0.1\n",
    "    xx, yy = np.meshgrid(np.linspace(mins[0], maxs[0], resolution),\n",
    "                         np.linspace(mins[1], maxs[1], resolution))\n",
    "    Z = assign_labels_to_grid(xx, yy, labels)\n",
    "\n",
    "    plt.contourf(xx, yy, Z, cmap=\"Pastel2\", alpha=0.8)\n",
    "    plt.contour(xx, yy, Z, linewidths=1, colors='k')\n",
    "    plot_data(X)\n",
    "    if show_centroids:\n",
    "        plot_centroids(compute_centroids(X, labels))\n",
    "\n",
    "    if show_xlabels:\n",
    "        plt.xlabel(\"$x_1$\", fontsize=14)\n",
    "    else:\n",
    "        plt.tick_params(labelbottom=False)\n",
    "    if show_ylabels:\n",
    "        plt.ylabel(\"$x_2$\", fontsize=14, rotation=0)\n",
    "    else:\n",
    "        plt.tick_params(labelleft=False)\n"
   ]
  },
  {
   "cell_type": "markdown",
   "id": "b2bf7e48",
   "metadata": {},
   "source": [
    "# KMEANS Variability"
   ]
  },
  {
   "cell_type": "markdown",
   "id": "32e2a71d",
   "metadata": {},
   "source": [
    "In the original K-Means algorithm, the centroids are just initialized randomly, and the algorithm simply runs a single iteration to gradually improve the centroids, as we saw above.\n",
    "\n",
    "However, one major problem with this approach is that if you run K-Means multiple times (or with different random seeds), it can converge to very different solutions, as you can see below:"
   ]
  },
  {
   "cell_type": "code",
   "execution_count": 14,
   "id": "40f0d879",
   "metadata": {},
   "outputs": [],
   "source": [
    "def plot_clusterer_comparison(clusterer1, clusterer2, X, title1=None, title2=None):\n",
    "    clusterer1.fit(X)\n",
    "    clusterer2.fit(X)\n",
    "\n",
    "    plt.figure(figsize=(10, 3.2))\n",
    "\n",
    "    plt.subplot(121)\n",
    "    plot_decision_boundaries(clusterer1, X)\n",
    "    if title1:\n",
    "        plt.title(title1, fontsize=14)\n",
    "\n",
    "    plt.subplot(122)\n",
    "    plot_decision_boundaries(clusterer2, X, show_ylabels=False)\n",
    "    if title2:\n",
    "        plt.title(title2, fontsize=14)\n"
   ]
  },
  {
   "cell_type": "code",
   "execution_count": 15,
   "id": "50575984",
   "metadata": {},
   "outputs": [
    {
     "name": "stdout",
     "output_type": "stream",
     "text": [
      "Saving figure kmeans_variability_plot\n"
     ]
    },
    {
     "data": {
      "image/png": "[encoded data removed]",
      "text/plain": [
       "<Figure size 1000x400 with 2 Axes>"
      ]
     },
     "metadata": {},
     "output_type": "display_data"
    }
   ],
   "source": [
    "import numpy as np\n",
    "import matplotlib.pyplot as plt\n",
    "\n",
    "def plot_data(X):\n",
    "    plt.plot(X[:, 0], X[:, 1], 'k.', markersize=2)\n",
    "\n",
    "def plot_centroids(centroids, circle_color='w', cross_color='k'):\n",
    "    plt.scatter(centroids[:, 0], centroids[:, 1],\n",
    "                marker='o', s=35, linewidths=8,\n",
    "                color=circle_color, zorder=10, alpha=0.9)\n",
    "    plt.scatter(centroids[:, 0], centroids[:, 1],\n",
    "                marker='x', s=2, linewidths=12,\n",
    "                color=cross_color, zorder=11, alpha=1)\n",
    "\n",
    "def plot_clusterer_comparison(clusterer1, clusterer2, X, label1, label2):\n",
    "    plt.figure(figsize=(10, 4))\n",
    "    plt.subplot(121)\n",
    "    plot_data(X)\n",
    "    plot_centroids(clusterer1, circle_color='r', cross_color='w')\n",
    "    plt.title(label1, fontsize=14)\n",
    "\n",
    "    plt.subplot(122)\n",
    "    plot_data(X)\n",
    "    plot_centroids(clusterer2, circle_color='b', cross_color='w')\n",
    "    plt.title(label2, fontsize=14)\n",
    "\n",
    "    plt.tight_layout()\n",
    "\n",
    "    def save_fig(name):\n",
    "        plt.savefig(name + \".png\")\n",
    "\n",
    "X = np.array([[1, 2], [1, 4], [1, 0], [4, 2], [4, 4], [4, 0]])\n",
    "\n",
    "clusterer1 = np.array([[1.5, 1], [4.5, 1], [1.5, 3], [4.5, 3], [2.5, 2]])\n",
    "clusterer2 = np.array([[2.5, 1], [1.5, 3], [4.5, 1], [2.5, 3], [4.5, 3]])\n",
    "\n",
    "plt.figure(figsize=(10, 4))\n",
    "plt.subplot(121)\n",
    "plot_data(X)\n",
    "plot_centroids(clusterer1)\n",
    "plt.title(\"Solution 1\", fontsize=14)\n",
    "\n",
    "plt.subplot(122)\n",
    "plot_data(X)\n",
    "plot_centroids(clusterer2)\n",
    "plt.title(\"Solution 2\", fontsize=14)\n",
    "\n",
    "save_fig(\"kmeans_variability_plot\")\n",
    "plt.show()\n",
    "\n"
   ]
  },
  {
   "cell_type": "markdown",
   "id": "de94b7d2",
   "metadata": {},
   "source": [
    "# Inertia"
   ]
  },
  {
   "cell_type": "code",
   "execution_count": 16,
   "id": "bd98b782",
   "metadata": {},
   "outputs": [
    {
     "name": "stdout",
     "output_type": "stream",
     "text": [
      "27\n",
      "-27\n"
     ]
    }
   ],
   "source": [
    "def calculate_inertia(cluster_centers, X):\n",
    "    # Calculate the squared Euclidean distances between each sample and its closest centroid\n",
    "    distances = np.sum((X - cluster_centers[:, np.newaxis])**2, axis=2)\n",
    "    \n",
    "    # Calculate the inertia as the sum of squared distances\n",
    "    inertia = np.sum(np.min(distances, axis=0))\n",
    "    \n",
    "    return inertia\n",
    "\n",
    "def calculate_score(cluster_centers, X):\n",
    "    # Calculate the negative squared Euclidean distances between each sample and its closest centroid\n",
    "    distances = np.sum((X - cluster_centers[:, np.newaxis])**2, axis=2)\n",
    "    \n",
    "    # Calculate the score as the sum of negative squared distances\n",
    "    score = -np.sum(np.min(distances, axis=0))\n",
    "    \n",
    "    return score\n",
    "\n",
    "cluster_centers = np.array([[1, 2], [3, 4], [5, 6], [7, 8], [9, 10]])\n",
    "inertia = calculate_inertia(cluster_centers, X)\n",
    "score = calculate_score(cluster_centers, X)\n",
    "\n",
    "print(inertia)\n",
    "print(score)\n"
   ]
  },
  {
   "cell_type": "markdown",
   "id": "7b871066",
   "metadata": {},
   "source": [
    "# N_init Hyperparameter"
   ]
  },
  {
   "cell_type": "markdown",
   "id": "451b27c7",
   "metadata": {},
   "source": [
    "When you set the n_init hyperparameter, Scikit-Learn runs the original algorithm n_init times, and selects the solution that minimizes the inertia. By default, Scikit-Learn sets n_init=10."
   ]
  },
  {
   "cell_type": "markdown",
   "id": "106471cf",
   "metadata": {},
   "source": [
    "# KMeans++"
   ]
  },
  {
   "cell_type": "markdown",
   "id": "215aab23",
   "metadata": {},
   "source": [
    "Instead of initializing the centroids entirely randomly, it is preferable to initialize them using the following algorithm, proposed in <a href = \"http://ilpubs.stanford.edu:8090/778/1/2006-13.pdf\">a 2006 paper </a> by David Arthur and Sergei Vassilvitskii:\n",
    "\n",
    " - Take one centroid $c_1$, chosen uniformly at random from the dataset.\n",
    " - Take a new center $c_2$ , choosing an instance \n",
    " with probability: \n",
    " $D(x_i)^2 / \\sum_{j = 1}^{m} D(x_j)^2$\n",
    " where $D(x_i)$\n",
    " is the distance between the instance $x_i$\n",
    " and the closest centroid that was already chosen. This probability distribution ensures that instances that are further away from already chosen centroids are much more likely be selected as centroids.\n",
    "Repeat the previous step until all  centroids have been chosen.\n",
    "The rest of the K-Means++ algorithm is just regular K-Means. With this initialization, the K-Means algorithm is much less likely to converge to a suboptimal solution, so it is possible to reduce n_init considerably. Most of the time, this largely compensates for the additional complexity of the initialization process.\n",
    "\n",
    "To set the initialization to K-Means++, simply set init=\"k-means++\" (this is actually the default):"
   ]
  },
  {
   "cell_type": "markdown",
   "id": "758dea3f",
   "metadata": {},
   "source": [
    "# Accelerated KMEANS"
   ]
  },
  {
   "cell_type": "markdown",
   "id": "e9da6b7c",
   "metadata": {},
   "source": [
    "The K-Means algorithm can be significantly accelerated by avoiding many unnecessary distance calculations: this is achieved by exploiting the triangle inequality (given three points A, B and C, the distance AC is always such that AC ≤ AB + BC) and by keeping track of lower and upper bounds for distances between instances and centroids (see this <a href = \"https://www.aaai.org/Papers/ICML/2003/ICML03-022.pdf\">2003 paper</a> by Charles Elkan for more details).\n",
    "\n",
    "To use Elkan's variant of K-Means, just set algorithm=\"elkan\". Note that it does not support sparse data, so by default, Scikit-Learn uses \"elkan\" for dense data, and \"full\" (the regular K-Means algorithm) for sparse data."
   ]
  },
  {
   "cell_type": "code",
   "execution_count": 17,
   "id": "05268e06",
   "metadata": {},
   "outputs": [],
   "source": [
    "# import timeit\n",
    "\n",
    "# def your_code():\n",
    "#     # Write your code here\n",
    "\n",
    "# execution_time = timeit.timeit(your_code, number=50)\n",
    "# print(\"Execution time:\", execution_time)\n"
   ]
  },
  {
   "cell_type": "code",
   "execution_count": 18,
   "id": "42be08b2",
   "metadata": {},
   "outputs": [],
   "source": [
    "# %timeit -n 50 KMeans(algorithm=\"full\", random_state=42).fit(X)"
   ]
  },
  {
   "cell_type": "markdown",
   "id": "66c00777",
   "metadata": {},
   "source": [
    "# Finding the Optimal number of Clusters"
   ]
  },
  {
   "cell_type": "code",
   "execution_count": 19,
   "id": "3c1b4ab3",
   "metadata": {},
   "outputs": [
    {
     "data": {
      "image/png": "[encoded data removed]",
      "text/plain": [
       "<Figure size 640x480 with 1 Axes>"
      ]
     },
     "metadata": {},
     "output_type": "display_data"
    }
   ],
   "source": [
    "from sklearn.cluster import AgglomerativeClustering\n",
    "from sklearn.metrics import silhouette_score\n",
    "\n",
    "silhouette_scores = []\n",
    "cluster_range = range(2, min(30, len(X)))\n",
    "\n",
    "for k in cluster_range:\n",
    "    # Perform clustering with k clusters using AgglomerativeClustering\n",
    "    clustering = AgglomerativeClustering(n_clusters=k)\n",
    "    clustering.fit(X)\n",
    "    \n",
    "    # Calculate the silhouette score\n",
    "    silhouette = silhouette_score(X, clustering.labels_)\n",
    "    silhouette_scores.append(silhouette)\n",
    "\n",
    "# Plot the silhouette scores\n",
    "plt.plot(cluster_range, silhouette_scores, 'bo-')\n",
    "plt.xlabel('Number of Clusters')\n",
    "plt.ylabel('Silhouette Score')\n",
    "plt.title('Silhouette Score - Optimal Number of Clusters')\n",
    "plt.grid(True)\n",
    "\n",
    "# Save the figure\n",
    "plt.savefig('optimal_clusters_silhouette.png')\n",
    "plt.show()\n"
   ]
  },
  {
   "cell_type": "markdown",
   "id": "d19ad3be",
   "metadata": {},
   "source": [
    "# Silhouette Clustering"
   ]
  },
  {
   "cell_type": "code",
   "execution_count": 20,
   "id": "39ed6b83",
   "metadata": {},
   "outputs": [],
   "source": [
    "# from IPython.display import Image\n",
    "# Image(filename='purpose-of-silhouette.png') "
   ]
  },
  {
   "cell_type": "code",
   "execution_count": 21,
   "id": "c94dcd24",
   "metadata": {},
   "outputs": [],
   "source": [
    "# Image(filename='Silhouette-clustering.png') "
   ]
  },
  {
   "cell_type": "code",
   "execution_count": 22,
   "id": "bfb0ff32",
   "metadata": {},
   "outputs": [],
   "source": [
    "# from sklearn.metrics import silhouette_score"
   ]
  },
  {
   "cell_type": "code",
   "execution_count": 23,
   "id": "7dfd2c1f",
   "metadata": {},
   "outputs": [],
   "source": [
    "# kmeans = KMeans(n_clusters = 3, random_state = 1)\n",
    "# cluster_labels = kmeans.fit_predict(X)\n",
    "# skplt.metrics.plot_silhouette(X, cluster_labels);\n",
    "# silhouette_score(X, kmeans.labels_)\n",
    "# save_fig('Cluster-size 3')"
   ]
  },
  {
   "cell_type": "code",
   "execution_count": 24,
   "id": "b4253873",
   "metadata": {},
   "outputs": [],
   "source": [
    "# kmeans = KMeans(n_clusters = 4, random_state = 1)\n",
    "# cluster_labels = kmeans.fit_predict(X)\n",
    "# skplt.metrics.plot_silhouette(X, cluster_labels);\n",
    "# silhouette_score(X, kmeans.labels_)\n",
    "# save_fig('Cluster-size 4')"
   ]
  },
  {
   "cell_type": "code",
   "execution_count": 25,
   "id": "3e6ea1b9",
   "metadata": {},
   "outputs": [],
   "source": [
    "# kmeans = KMeans(n_clusters = 5, random_state = 1)\n",
    "# cluster_labels = kmeans.fit_predict(X)\n",
    "# skplt.metrics.plot_silhouette(X, cluster_labels);\n",
    "# silhouette_score(X, kmeans.labels_)\n",
    "# save_fig('Cluster-size 5')"
   ]
  },
  {
   "cell_type": "code",
   "execution_count": 26,
   "id": "8770b3e4",
   "metadata": {},
   "outputs": [],
   "source": [
    "# kmeans = KMeans(n_clusters = 8, random_state = 1)\n",
    "# cluster_labels = kmeans.fit_predict(X)\n",
    "# skplt.metrics.plot_silhouette(X, cluster_labels);\n",
    "# silhouette_score(X, kmeans.labels_)\n",
    "# save_fig('Cluster-size 8')"
   ]
  },
  {
   "cell_type": "code",
   "execution_count": 27,
   "id": "20c819bc",
   "metadata": {},
   "outputs": [],
   "source": [
    "# clusterSize = [3, 4, 5, 6, 7, 8]\n",
    "# silh = []"
   ]
  },
  {
   "cell_type": "code",
   "execution_count": 28,
   "id": "9856b3cd",
   "metadata": {},
   "outputs": [],
   "source": [
    "# for x in clusterSize:\n",
    "#     kmeans = KMeans(n_clusters = x, random_state = 1)\n",
    "#     cluster_labels = kmeans.fit_predict(X)\n",
    "#     silh.append(silhouette_score(X, kmeans.labels_))\n",
    "# plt.figure(figsize = (8, 6))\n",
    "# plt.ylabel(\"Silhouette Score\")\n",
    "# plt.xlabel(\"Cluster Size\")\n",
    "# plt.plot(clusterSize, silh);\n",
    "# plt.title(\"Variation of Average Silhouette Score with Cluster Size\")\n",
    "# silh.clear()\n",
    "# save_fig(\"Average Silhouette Score\")"
   ]
  },
  {
   "cell_type": "code",
   "execution_count": null,
   "id": "8af72463",
   "metadata": {},
   "outputs": [],
   "source": []
  }
 ],
 "metadata": {
  "kernelspec": {
   "display_name": "Python 3 (ipykernel)",
   "language": "python",
   "name": "python3"
  },
  "language_info": {
   "codemirror_mode": {
    "name": "ipython",
    "version": 3
   },
   "file_extension": ".py",
   "mimetype": "text/x-python",
   "name": "python",
   "nbconvert_exporter": "python",
   "pygments_lexer": "ipython3",
   "version": "3.10.11"
  }
 },
 "nbformat": 4,
 "nbformat_minor": 5
}

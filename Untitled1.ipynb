{
 "cells": [
  {
   "cell_type": "code",
   "execution_count": 1,
   "id": "26c7e677",
   "metadata": {},
   "outputs": [
    {
     "name": "stdout",
     "output_type": "stream",
     "text": [
      "3.9.13 (main, Aug 25 2022, 23:51:50) [MSC v.1916 64 bit (AMD64)]\n"
     ]
    }
   ],
   "source": [
    "import sys\n",
    "print(format(sys.version))"
   ]
  },
  {
   "cell_type": "code",
   "execution_count": 2,
   "id": "77e43bfe",
   "metadata": {},
   "outputs": [
    {
     "name": "stdout",
     "output_type": "stream",
     "text": [
      "1.21.5\n"
     ]
    }
   ],
   "source": [
    "import numpy\n",
    "print(format(numpy.__version__))"
   ]
  },
  {
   "cell_type": "code",
   "execution_count": 3,
   "id": "59b86777",
   "metadata": {},
   "outputs": [
    {
     "name": "stdout",
     "output_type": "stream",
     "text": [
      "1.9.1\n"
     ]
    }
   ],
   "source": [
    "import scipy\n",
    "print(format(scipy.__version__))"
   ]
  },
  {
   "cell_type": "code",
   "execution_count": 4,
   "id": "710355f3",
   "metadata": {},
   "outputs": [
    {
     "name": "stdout",
     "output_type": "stream",
     "text": [
      "3.5.2\n"
     ]
    }
   ],
   "source": [
    "import matplotlib\n",
    "print(format(matplotlib.__version__))"
   ]
  },
  {
   "cell_type": "code",
   "execution_count": 5,
   "id": "09e0038e",
   "metadata": {},
   "outputs": [
    {
     "name": "stdout",
     "output_type": "stream",
     "text": [
      "1.0.2\n"
     ]
    }
   ],
   "source": [
    "import sklearn\n",
    "print(format(sklearn.__version__))"
   ]
  },
  {
   "cell_type": "code",
   "execution_count": 6,
   "id": "32f0d743",
   "metadata": {},
   "outputs": [
    {
     "name": "stdout",
     "output_type": "stream",
     "text": [
      "1.4.4\n"
     ]
    }
   ],
   "source": [
    "import pandas\n",
    "print(format(pandas.__version__))"
   ]
  },
  {
   "cell_type": "code",
   "execution_count": 7,
   "id": "16e9e137",
   "metadata": {},
   "outputs": [],
   "source": [
    "import pandas \n",
    "from pandas.plotting import scatter_matrix\n",
    "import matplotlib.pyplot as plt\n",
    "from sklearn import model_selection\n",
    "from sklearn.metrics import classification_report\n",
    "from sklearn.metrics import confusion_matrix\n",
    "from sklearn.metrics import accuracy_score\n",
    "from sklearn.linear_model import LogisticRegression\n",
    "from sklearn.tree import DecisionTreeClassifier\n",
    "from sklearn.neighbors import KNeighborsClassifier\n",
    "from sklearn.discriminant_analysis import LinearDiscriminantAnalysis\n",
    "from sklearn.naive_bayes import GaussianNB\n",
    "from sklearn.svm import SVC\n",
    "from sklearn.datasets import load_iris\n",
    "from sklearn.preprocessing import LabelEncoder\n",
    "import numpy as np\n",
    "from sklearn.ensemble import RandomForestRegressor\n",
    "from sklearn.metrics import mean_squared_error, r2_score\n",
    "from sklearn.model_selection import train_test_split\n",
    "from sklearn.model_selection import train_test_split"
   ]
  },
  {
   "cell_type": "code",
   "execution_count": 8,
   "id": "88b0e91c",
   "metadata": {},
   "outputs": [],
   "source": [
    "url=\"F:\\Khidmah_Data (1).xlsx\"\n",
    "dataset=pandas.read_excel(url);"
   ]
  },
  {
   "cell_type": "code",
   "execution_count": 9,
   "id": "f004dd22",
   "metadata": {},
   "outputs": [
    {
     "name": "stdout",
     "output_type": "stream",
     "text": [
      "          Age Smoke  Dia_family_mem  HTN_family  IHD/MI_family  Stroke_family  \\\n",
      "0        32.0   Yes             8.0         NaN            NaN            NaN   \n",
      "1        60.0    No             0.0         NaN            NaN            NaN   \n",
      "2        50.0    No             7.0         NaN            NaN            NaN   \n",
      "3        48.0    No             NaN         2.0            NaN            NaN   \n",
      "4        44.0    No             8.0         NaN            NaN            NaN   \n",
      "...       ...   ...             ...         ...            ...            ...   \n",
      "1048570   NaN   NaN             NaN         NaN            NaN            NaN   \n",
      "1048571   NaN   NaN             NaN         NaN            NaN            NaN   \n",
      "1048572   NaN   NaN             NaN         NaN            NaN            NaN   \n",
      "1048573   NaN   NaN             NaN         NaN            NaN            NaN   \n",
      "1048574   NaN   NaN             NaN         NaN            NaN            NaN   \n",
      "\n",
      "         Amputation_family  Height  Weight        BMI  ...   HDL LDL    SGPT  \\\n",
      "0                      NaN   170.0    69.0  23.875433  ...  67.0 NaN    24.0   \n",
      "1                      NaN   154.0    72.0  30.359251  ...   NaN NaN  3601.0   \n",
      "2                      NaN   165.0    57.0  20.936639  ...   NaN NaN    22.0   \n",
      "3                      NaN   148.0    70.0  31.957633  ...   NaN NaN  2110.0   \n",
      "4                      NaN   163.0    65.0  24.464602  ...   NaN NaN    29.0   \n",
      "...                    ...     ...     ...        ...  ...   ...  ..     ...   \n",
      "1048570                NaN     NaN     NaN        NaN  ...   NaN NaN     NaN   \n",
      "1048571                NaN     NaN     NaN        NaN  ...   NaN NaN     NaN   \n",
      "1048572                NaN     NaN     NaN        NaN  ...   NaN NaN     NaN   \n",
      "1048573                NaN     NaN     NaN        NaN  ...   NaN NaN     NaN   \n",
      "1048574                NaN     NaN     NaN        NaN  ...   NaN NaN     NaN   \n",
      "\n",
      "         HbAlc  Urea  Creatinine  S.TSH  RBS  U.Acid  Diagnosis DM Type  \n",
      "0          NaN   NaN        0.80    NaN  NaN     NaN                1.0  \n",
      "1          NaN   NaN        0.17    NaN  NaN     NaN                1.0  \n",
      "2          NaN   NaN        0.80    NaN  NaN     NaN                1.0  \n",
      "3          NaN   NaN        0.80    NaN  NaN     NaN                1.0  \n",
      "4          NaN   NaN        0.80    NaN  NaN     NaN                1.0  \n",
      "...        ...   ...         ...    ...  ...     ...                ...  \n",
      "1048570    NaN   NaN         NaN    NaN  NaN     NaN                NaN  \n",
      "1048571    NaN   NaN         NaN    NaN  NaN     NaN                NaN  \n",
      "1048572    NaN   NaN         NaN    NaN  NaN     NaN                NaN  \n",
      "1048573    NaN   NaN         NaN    NaN  NaN     NaN                NaN  \n",
      "1048574    NaN   NaN         NaN    NaN  NaN     NaN                NaN  \n",
      "\n",
      "[1048575 rows x 42 columns]\n"
     ]
    }
   ],
   "source": [
    "print(dataset)"
   ]
  },
  {
   "cell_type": "code",
   "execution_count": 10,
   "id": "ba3de96a",
   "metadata": {},
   "outputs": [
    {
     "name": "stdout",
     "output_type": "stream",
     "text": [
      "(1048575, 42)\n"
     ]
    }
   ],
   "source": [
    "print(dataset.shape)"
   ]
  },
  {
   "cell_type": "code",
   "execution_count": 11,
   "id": "d56ef610",
   "metadata": {
    "scrolled": true
   },
   "outputs": [
    {
     "name": "stdout",
     "output_type": "stream",
     "text": [
      "              Age  Dia_family_mem  HTN_family  IHD/MI_family  Stroke_family  \\\n",
      "count  651.000000      518.000000  287.000000     199.000000     203.000000   \n",
      "mean    48.227343        5.546332    5.296167       6.130653       6.467980   \n",
      "std     11.400024        2.658655    3.093997       2.992080       2.786586   \n",
      "min     19.000000        0.000000    1.000000       1.000000       1.000000   \n",
      "25%     40.000000        3.000000    2.000000       2.500000       7.000000   \n",
      "50%     48.000000        7.000000    8.000000       8.000000       8.000000   \n",
      "75%     55.000000        8.000000    8.000000       8.000000       8.000000   \n",
      "max     90.000000        8.000000    8.000000       8.000000       8.000000   \n",
      "\n",
      "       Amputation_family      Height      Weight         BMI       Pulse  ...  \\\n",
      "count         148.000000  629.000000  642.000000  629.000000  597.000000  ...   \n",
      "mean            7.675676  157.735453   64.647196   25.870845   79.128141  ...   \n",
      "std             1.310430   15.821080   11.319729    7.283222    7.190645  ...   \n",
      "min             1.000000   64.000000   35.000000    0.000000   18.000000  ...   \n",
      "25%             8.000000  150.000000   57.000000   23.191095   76.000000  ...   \n",
      "50%             8.000000  158.000000   65.000000   25.461981   76.000000  ...   \n",
      "75%             8.000000  165.000000   71.000000   28.125000   80.000000  ...   \n",
      "max             8.000000  450.000000  111.000000  151.479290  110.000000  ...   \n",
      "\n",
      "              HDL         LDL          SGPT        HbAlc        Urea  \\\n",
      "count  199.000000  197.000000    565.000000    69.000000   33.000000   \n",
      "mean    39.939698  122.949239    273.124779    26.695217   26.155758   \n",
      "std     13.817950   49.136497   2247.967889   140.297243   19.706803   \n",
      "min     19.000000   24.000000      1.000000     5.600000    9.140000   \n",
      "25%     33.000000   95.000000     21.000000     8.000000   18.000000   \n",
      "50%     38.000000  113.000000     28.000000     9.400000   21.000000   \n",
      "75%     44.500000  147.000000     38.000000    11.500000   25.000000   \n",
      "max    172.000000  336.000000  29104.000000  1175.000000  123.000000   \n",
      "\n",
      "       Creatinine     S.TSH        RBS     U.Acid  Diagnosis DM Type  \n",
      "count  601.000000  5.000000   8.000000  19.000000         605.000000  \n",
      "mean     0.970915  3.544000  17.787500   4.878947           1.137190  \n",
      "std      0.435584  3.670672  10.280694   1.575358           0.358467  \n",
      "min      0.170000  1.000000   8.600000   0.800000           1.000000  \n",
      "25%      0.800000  1.330000  10.825000   3.800000           1.000000  \n",
      "50%      0.900000  1.760000  16.250000   5.000000           1.000000  \n",
      "75%      1.100000  3.820000  18.750000   6.000000           1.000000  \n",
      "max      8.800000  9.810000  40.700000   7.200000           4.000000  \n",
      "\n",
      "[8 rows x 40 columns]\n"
     ]
    }
   ],
   "source": [
    "print(dataset.describe())"
   ]
  },
  {
   "cell_type": "code",
   "execution_count": 12,
   "id": "84830a71",
   "metadata": {},
   "outputs": [
    {
     "data": {
      "image/png": "[encoded data removed]",
      "text/plain": [
       "<Figure size 640x480 with 49 Axes>"
      ]
     },
     "metadata": {},
     "output_type": "display_data"
    }
   ],
   "source": [
    "dataset.plot(kind=\"box\", subplots=True, layout=(7,7), sharex=False, sharey=False)\n",
    "plt.show()"
   ]
  },
  {
   "cell_type": "code",
   "execution_count": 13,
   "id": "18171df4",
   "metadata": {},
   "outputs": [
    {
     "data": {
      "image/png": "[encoded data removed]",
      "text/plain": [
       "<Figure size 640x480 with 42 Axes>"
      ]
     },
     "metadata": {},
     "output_type": "display_data"
    }
   ],
   "source": [
    "dataset.hist()\n",
    "plt.show()"
   ]
  },
  {
   "cell_type": "code",
   "execution_count": 14,
   "id": "c571dd88",
   "metadata": {},
   "outputs": [],
   "source": [
    "array=dataset.values\n",
    "x=array[:,0:41]\n",
    "y=array[:,41]\n",
    "validation_size=0.2\n",
    "seed=6\n",
    "x_train,x_test,y_train,y_test=model_selection.train_test_split(x,y,test_size=validation_size,random_state=seed)"
   ]
  },
  {
   "cell_type": "code",
   "execution_count": 15,
   "id": "42f348c5",
   "metadata": {},
   "outputs": [],
   "source": [
    "seed=7\n",
    "scoring='accuracy'"
   ]
  },
  {
   "cell_type": "code",
   "execution_count": 16,
   "id": "9f92c83b",
   "metadata": {},
   "outputs": [
    {
     "data": {
      "text/html": [
       "<div>\n",
       "<style scoped>\n",
       "    .dataframe tbody tr th:only-of-type {\n",
       "        vertical-align: middle;\n",
       "    }\n",
       "\n",
       "    .dataframe tbody tr th {\n",
       "        vertical-align: top;\n",
       "    }\n",
       "\n",
       "    .dataframe thead th {\n",
       "        text-align: right;\n",
       "    }\n",
       "</style>\n",
       "<table border=\"1\" class=\"dataframe\">\n",
       "  <thead>\n",
       "    <tr style=\"text-align: right;\">\n",
       "      <th></th>\n",
       "      <th>Age</th>\n",
       "      <th>Smoke</th>\n",
       "      <th>Dia_family_mem</th>\n",
       "      <th>HTN_family</th>\n",
       "      <th>IHD/MI_family</th>\n",
       "      <th>Stroke_family</th>\n",
       "      <th>Amputation_family</th>\n",
       "      <th>Height</th>\n",
       "      <th>Weight</th>\n",
       "      <th>BMI</th>\n",
       "      <th>...</th>\n",
       "      <th>HDL</th>\n",
       "      <th>LDL</th>\n",
       "      <th>SGPT</th>\n",
       "      <th>HbAlc</th>\n",
       "      <th>Urea</th>\n",
       "      <th>Creatinine</th>\n",
       "      <th>S.TSH</th>\n",
       "      <th>RBS</th>\n",
       "      <th>U.Acid</th>\n",
       "      <th>Diagnosis DM Type</th>\n",
       "    </tr>\n",
       "  </thead>\n",
       "  <tbody>\n",
       "    <tr>\n",
       "      <th>0</th>\n",
       "      <td>32.0</td>\n",
       "      <td>Yes</td>\n",
       "      <td>8.0</td>\n",
       "      <td>NaN</td>\n",
       "      <td>NaN</td>\n",
       "      <td>NaN</td>\n",
       "      <td>NaN</td>\n",
       "      <td>170.0</td>\n",
       "      <td>69.0</td>\n",
       "      <td>23.875433</td>\n",
       "      <td>...</td>\n",
       "      <td>67.0</td>\n",
       "      <td>NaN</td>\n",
       "      <td>24.0</td>\n",
       "      <td>NaN</td>\n",
       "      <td>NaN</td>\n",
       "      <td>0.80</td>\n",
       "      <td>NaN</td>\n",
       "      <td>NaN</td>\n",
       "      <td>NaN</td>\n",
       "      <td>1.0</td>\n",
       "    </tr>\n",
       "    <tr>\n",
       "      <th>1</th>\n",
       "      <td>60.0</td>\n",
       "      <td>No</td>\n",
       "      <td>0.0</td>\n",
       "      <td>NaN</td>\n",
       "      <td>NaN</td>\n",
       "      <td>NaN</td>\n",
       "      <td>NaN</td>\n",
       "      <td>154.0</td>\n",
       "      <td>72.0</td>\n",
       "      <td>30.359251</td>\n",
       "      <td>...</td>\n",
       "      <td>NaN</td>\n",
       "      <td>NaN</td>\n",
       "      <td>3601.0</td>\n",
       "      <td>NaN</td>\n",
       "      <td>NaN</td>\n",
       "      <td>0.17</td>\n",
       "      <td>NaN</td>\n",
       "      <td>NaN</td>\n",
       "      <td>NaN</td>\n",
       "      <td>1.0</td>\n",
       "    </tr>\n",
       "    <tr>\n",
       "      <th>2</th>\n",
       "      <td>50.0</td>\n",
       "      <td>No</td>\n",
       "      <td>7.0</td>\n",
       "      <td>NaN</td>\n",
       "      <td>NaN</td>\n",
       "      <td>NaN</td>\n",
       "      <td>NaN</td>\n",
       "      <td>165.0</td>\n",
       "      <td>57.0</td>\n",
       "      <td>20.936639</td>\n",
       "      <td>...</td>\n",
       "      <td>NaN</td>\n",
       "      <td>NaN</td>\n",
       "      <td>22.0</td>\n",
       "      <td>NaN</td>\n",
       "      <td>NaN</td>\n",
       "      <td>0.80</td>\n",
       "      <td>NaN</td>\n",
       "      <td>NaN</td>\n",
       "      <td>NaN</td>\n",
       "      <td>1.0</td>\n",
       "    </tr>\n",
       "    <tr>\n",
       "      <th>3</th>\n",
       "      <td>48.0</td>\n",
       "      <td>No</td>\n",
       "      <td>NaN</td>\n",
       "      <td>2.0</td>\n",
       "      <td>NaN</td>\n",
       "      <td>NaN</td>\n",
       "      <td>NaN</td>\n",
       "      <td>148.0</td>\n",
       "      <td>70.0</td>\n",
       "      <td>31.957633</td>\n",
       "      <td>...</td>\n",
       "      <td>NaN</td>\n",
       "      <td>NaN</td>\n",
       "      <td>2110.0</td>\n",
       "      <td>NaN</td>\n",
       "      <td>NaN</td>\n",
       "      <td>0.80</td>\n",
       "      <td>NaN</td>\n",
       "      <td>NaN</td>\n",
       "      <td>NaN</td>\n",
       "      <td>1.0</td>\n",
       "    </tr>\n",
       "    <tr>\n",
       "      <th>4</th>\n",
       "      <td>44.0</td>\n",
       "      <td>No</td>\n",
       "      <td>8.0</td>\n",
       "      <td>NaN</td>\n",
       "      <td>NaN</td>\n",
       "      <td>NaN</td>\n",
       "      <td>NaN</td>\n",
       "      <td>163.0</td>\n",
       "      <td>65.0</td>\n",
       "      <td>24.464602</td>\n",
       "      <td>...</td>\n",
       "      <td>NaN</td>\n",
       "      <td>NaN</td>\n",
       "      <td>29.0</td>\n",
       "      <td>NaN</td>\n",
       "      <td>NaN</td>\n",
       "      <td>0.80</td>\n",
       "      <td>NaN</td>\n",
       "      <td>NaN</td>\n",
       "      <td>NaN</td>\n",
       "      <td>1.0</td>\n",
       "    </tr>\n",
       "  </tbody>\n",
       "</table>\n",
       "<p>5 rows × 42 columns</p>\n",
       "</div>"
      ],
      "text/plain": [
       "    Age Smoke  Dia_family_mem  HTN_family  IHD/MI_family  Stroke_family  \\\n",
       "0  32.0   Yes             8.0         NaN            NaN            NaN   \n",
       "1  60.0    No             0.0         NaN            NaN            NaN   \n",
       "2  50.0    No             7.0         NaN            NaN            NaN   \n",
       "3  48.0    No             NaN         2.0            NaN            NaN   \n",
       "4  44.0    No             8.0         NaN            NaN            NaN   \n",
       "\n",
       "   Amputation_family  Height  Weight        BMI  ...   HDL LDL    SGPT  HbAlc  \\\n",
       "0                NaN   170.0    69.0  23.875433  ...  67.0 NaN    24.0    NaN   \n",
       "1                NaN   154.0    72.0  30.359251  ...   NaN NaN  3601.0    NaN   \n",
       "2                NaN   165.0    57.0  20.936639  ...   NaN NaN    22.0    NaN   \n",
       "3                NaN   148.0    70.0  31.957633  ...   NaN NaN  2110.0    NaN   \n",
       "4                NaN   163.0    65.0  24.464602  ...   NaN NaN    29.0    NaN   \n",
       "\n",
       "   Urea  Creatinine  S.TSH  RBS  U.Acid  Diagnosis DM Type  \n",
       "0   NaN        0.80    NaN  NaN     NaN                1.0  \n",
       "1   NaN        0.17    NaN  NaN     NaN                1.0  \n",
       "2   NaN        0.80    NaN  NaN     NaN                1.0  \n",
       "3   NaN        0.80    NaN  NaN     NaN                1.0  \n",
       "4   NaN        0.80    NaN  NaN     NaN                1.0  \n",
       "\n",
       "[5 rows x 42 columns]"
      ]
     },
     "execution_count": 16,
     "metadata": {},
     "output_type": "execute_result"
    }
   ],
   "source": [
    "dataset.head(5)\n",
    "\n",
    "\n"
   ]
  },
  {
   "cell_type": "code",
   "execution_count": 17,
   "id": "6f552a5b",
   "metadata": {},
   "outputs": [
    {
     "data": {
      "text/html": [
       "<div>\n",
       "<style scoped>\n",
       "    .dataframe tbody tr th:only-of-type {\n",
       "        vertical-align: middle;\n",
       "    }\n",
       "\n",
       "    .dataframe tbody tr th {\n",
       "        vertical-align: top;\n",
       "    }\n",
       "\n",
       "    .dataframe thead th {\n",
       "        text-align: right;\n",
       "    }\n",
       "</style>\n",
       "<table border=\"1\" class=\"dataframe\">\n",
       "  <thead>\n",
       "    <tr style=\"text-align: right;\">\n",
       "      <th></th>\n",
       "      <th>Dataset</th>\n",
       "    </tr>\n",
       "  </thead>\n",
       "  <tbody>\n",
       "    <tr>\n",
       "      <th>Age</th>\n",
       "      <td>1047924</td>\n",
       "    </tr>\n",
       "    <tr>\n",
       "      <th>Smoke</th>\n",
       "      <td>1047968</td>\n",
       "    </tr>\n",
       "    <tr>\n",
       "      <th>Dia_family_mem</th>\n",
       "      <td>1048057</td>\n",
       "    </tr>\n",
       "    <tr>\n",
       "      <th>HTN_family</th>\n",
       "      <td>1048288</td>\n",
       "    </tr>\n",
       "    <tr>\n",
       "      <th>IHD/MI_family</th>\n",
       "      <td>1048376</td>\n",
       "    </tr>\n",
       "    <tr>\n",
       "      <th>Stroke_family</th>\n",
       "      <td>1048372</td>\n",
       "    </tr>\n",
       "    <tr>\n",
       "      <th>Amputation_family</th>\n",
       "      <td>1048427</td>\n",
       "    </tr>\n",
       "    <tr>\n",
       "      <th>Height</th>\n",
       "      <td>1047946</td>\n",
       "    </tr>\n",
       "    <tr>\n",
       "      <th>Weight</th>\n",
       "      <td>1047933</td>\n",
       "    </tr>\n",
       "    <tr>\n",
       "      <th>BMI</th>\n",
       "      <td>1047946</td>\n",
       "    </tr>\n",
       "    <tr>\n",
       "      <th>Pulse</th>\n",
       "      <td>1047978</td>\n",
       "    </tr>\n",
       "    <tr>\n",
       "      <th>Bp</th>\n",
       "      <td>1047971</td>\n",
       "    </tr>\n",
       "    <tr>\n",
       "      <th>Date of detection</th>\n",
       "      <td>1048091</td>\n",
       "    </tr>\n",
       "    <tr>\n",
       "      <th>Fbs_first</th>\n",
       "      <td>1048364</td>\n",
       "    </tr>\n",
       "    <tr>\n",
       "      <th>ABF_first</th>\n",
       "      <td>1048322</td>\n",
       "    </tr>\n",
       "    <tr>\n",
       "      <th>SGPT_first</th>\n",
       "      <td>1048556</td>\n",
       "    </tr>\n",
       "    <tr>\n",
       "      <th>FBS</th>\n",
       "      <td>1047940</td>\n",
       "    </tr>\n",
       "    <tr>\n",
       "      <th>Hb</th>\n",
       "      <td>1048433</td>\n",
       "    </tr>\n",
       "    <tr>\n",
       "      <th>ESR</th>\n",
       "      <td>1048431</td>\n",
       "    </tr>\n",
       "    <tr>\n",
       "      <th>TC</th>\n",
       "      <td>1048499</td>\n",
       "    </tr>\n",
       "    <tr>\n",
       "      <th>Poly</th>\n",
       "      <td>1048459</td>\n",
       "    </tr>\n",
       "    <tr>\n",
       "      <th>Lymph</th>\n",
       "      <td>1048440</td>\n",
       "    </tr>\n",
       "    <tr>\n",
       "      <th>Mono</th>\n",
       "      <td>1048443</td>\n",
       "    </tr>\n",
       "    <tr>\n",
       "      <th>Baso</th>\n",
       "      <td>1048506</td>\n",
       "    </tr>\n",
       "    <tr>\n",
       "      <th>Eosin</th>\n",
       "      <td>1048443</td>\n",
       "    </tr>\n",
       "    <tr>\n",
       "      <th>ABF</th>\n",
       "      <td>1047936</td>\n",
       "    </tr>\n",
       "    <tr>\n",
       "      <th>Na+</th>\n",
       "      <td>1048570</td>\n",
       "    </tr>\n",
       "    <tr>\n",
       "      <th>K-</th>\n",
       "      <td>1048573</td>\n",
       "    </tr>\n",
       "    <tr>\n",
       "      <th>Cl</th>\n",
       "      <td>1048570</td>\n",
       "    </tr>\n",
       "    <tr>\n",
       "      <th>HC03</th>\n",
       "      <td>1048574</td>\n",
       "    </tr>\n",
       "    <tr>\n",
       "      <th>T.Chol</th>\n",
       "      <td>1047971</td>\n",
       "    </tr>\n",
       "    <tr>\n",
       "      <th>TG</th>\n",
       "      <td>1047972</td>\n",
       "    </tr>\n",
       "    <tr>\n",
       "      <th>HDL</th>\n",
       "      <td>1048376</td>\n",
       "    </tr>\n",
       "    <tr>\n",
       "      <th>LDL</th>\n",
       "      <td>1048378</td>\n",
       "    </tr>\n",
       "    <tr>\n",
       "      <th>SGPT</th>\n",
       "      <td>1048010</td>\n",
       "    </tr>\n",
       "    <tr>\n",
       "      <th>HbAlc</th>\n",
       "      <td>1048506</td>\n",
       "    </tr>\n",
       "    <tr>\n",
       "      <th>Urea</th>\n",
       "      <td>1048542</td>\n",
       "    </tr>\n",
       "    <tr>\n",
       "      <th>Creatinine</th>\n",
       "      <td>1047974</td>\n",
       "    </tr>\n",
       "    <tr>\n",
       "      <th>S.TSH</th>\n",
       "      <td>1048570</td>\n",
       "    </tr>\n",
       "    <tr>\n",
       "      <th>RBS</th>\n",
       "      <td>1048567</td>\n",
       "    </tr>\n",
       "    <tr>\n",
       "      <th>U.Acid</th>\n",
       "      <td>1048556</td>\n",
       "    </tr>\n",
       "    <tr>\n",
       "      <th>Diagnosis DM Type</th>\n",
       "      <td>1047970</td>\n",
       "    </tr>\n",
       "  </tbody>\n",
       "</table>\n",
       "</div>"
      ],
      "text/plain": [
       "                   Dataset\n",
       "Age                1047924\n",
       "Smoke              1047968\n",
       "Dia_family_mem     1048057\n",
       "HTN_family         1048288\n",
       "IHD/MI_family      1048376\n",
       "Stroke_family      1048372\n",
       "Amputation_family  1048427\n",
       "Height             1047946\n",
       "Weight             1047933\n",
       "BMI                1047946\n",
       "Pulse              1047978\n",
       "Bp                 1047971\n",
       "Date of detection  1048091\n",
       "Fbs_first          1048364\n",
       "ABF_first          1048322\n",
       "SGPT_first         1048556\n",
       "FBS                1047940\n",
       "Hb                 1048433\n",
       "ESR                1048431\n",
       "TC                 1048499\n",
       "Poly               1048459\n",
       "Lymph              1048440\n",
       "Mono               1048443\n",
       "Baso               1048506\n",
       "Eosin              1048443\n",
       "ABF                1047936\n",
       "Na+                1048570\n",
       "K-                 1048573\n",
       "Cl                 1048570\n",
       "HC03               1048574\n",
       "T.Chol             1047971\n",
       "TG                 1047972\n",
       "HDL                1048376\n",
       "LDL                1048378\n",
       "SGPT               1048010\n",
       "HbAlc              1048506\n",
       "Urea               1048542\n",
       "Creatinine         1047974\n",
       "S.TSH              1048570\n",
       "RBS                1048567\n",
       "U.Acid             1048556\n",
       "Diagnosis DM Type  1047970"
      ]
     },
     "execution_count": 17,
     "metadata": {},
     "output_type": "execute_result"
    }
   ],
   "source": [
    "#checking for missing data\n",
    "Nas=pandas.concat([dataset.isnull().sum()],axis=1,keys=[\"Dataset\"])\n",
    "Nas[Nas.sum(axis=1)>0]"
   ]
  },
  {
   "cell_type": "code",
   "execution_count": 18,
   "id": "920d6a34",
   "metadata": {},
   "outputs": [
    {
     "name": "stdout",
     "output_type": "stream",
     "text": [
      "          Age Smoke  Dia_family_mem  Height  Weight        BMI  Pulse      Bp  \\\n",
      "0        32.0   Yes             8.0   170.0    69.0  23.875433   76.0  120/80   \n",
      "1        60.0    No             0.0   154.0    72.0  30.359251   76.0  120/80   \n",
      "2        50.0    No             7.0   165.0    57.0  20.936639   76.0  120/80   \n",
      "3        48.0    No             NaN   148.0    70.0  31.957633   72.0  150/90   \n",
      "4        44.0    No             8.0   163.0    65.0  24.464602   76.0  120/80   \n",
      "...       ...   ...             ...     ...     ...        ...    ...     ...   \n",
      "1048570   NaN   NaN             NaN     NaN     NaN        NaN    NaN     NaN   \n",
      "1048571   NaN   NaN             NaN     NaN     NaN        NaN    NaN     NaN   \n",
      "1048572   NaN   NaN             NaN     NaN     NaN        NaN    NaN     NaN   \n",
      "1048573   NaN   NaN             NaN     NaN     NaN        NaN    NaN     NaN   \n",
      "1048574   NaN   NaN             NaN     NaN     NaN        NaN    NaN     NaN   \n",
      "\n",
      "         Date of detection   FBS   ABF  T.Chol     TG    SGPT  Creatinine  \\\n",
      "0                   2012.0  15.7  24.8     NaN  139.0    24.0        0.80   \n",
      "1                      NaN   7.3   9.3     NaN  221.0  3601.0        0.17   \n",
      "2                   2019.0  17.1  25.3   211.0  203.0    22.0        0.80   \n",
      "3                   2015.0   8.5  11.2   212.0  158.0  2110.0        0.80   \n",
      "4                   2019.0   7.9  12.4   180.0  227.0    29.0        0.80   \n",
      "...                    ...   ...   ...     ...    ...     ...         ...   \n",
      "1048570                NaN   NaN   NaN     NaN    NaN     NaN         NaN   \n",
      "1048571                NaN   NaN   NaN     NaN    NaN     NaN         NaN   \n",
      "1048572                NaN   NaN   NaN     NaN    NaN     NaN         NaN   \n",
      "1048573                NaN   NaN   NaN     NaN    NaN     NaN         NaN   \n",
      "1048574                NaN   NaN   NaN     NaN    NaN     NaN         NaN   \n",
      "\n",
      "         Diagnosis DM Type  \n",
      "0                      1.0  \n",
      "1                      1.0  \n",
      "2                      1.0  \n",
      "3                      1.0  \n",
      "4                      1.0  \n",
      "...                    ...  \n",
      "1048570                NaN  \n",
      "1048571                NaN  \n",
      "1048572                NaN  \n",
      "1048573                NaN  \n",
      "1048574                NaN  \n",
      "\n",
      "[1048575 rows x 16 columns]\n"
     ]
    }
   ],
   "source": [
    "columns_to_remove = ['HTN_family', 'IHD/MI_family','Stroke_family','Amputation_family','Fbs_first','ABF_first','SGPT_first','Hb','ESR','TC','Poly','Lymph','Mono','Baso','Eosin','Na+','K-','Cl','HC03','HDL','LDL','HbAlc','Urea','S.TSH','RBS','U.Acid']\n",
    "\n",
    "# Remove the columns using the drop() function\n",
    "dataset.drop(columns_to_remove, axis=1, inplace=True)\n",
    "print(dataset)\n"
   ]
  },
  {
   "cell_type": "code",
   "execution_count": 19,
   "id": "9867f762",
   "metadata": {},
   "outputs": [],
   "source": [
    "# Identify columns containing string values\n",
    "string_cols = [col for col in dataset.columns if dataset[col].dtype == 'object']\n",
    "\n",
    "# Convert binary string columns to numeric\n",
    "dataset['Smoke'] = dataset['Smoke'].map({'Yes': 0, 'No': 1})\n",
    "\n",
    "bp_col = 'Bp'\n",
    "\n",
    "# Split the blood pressure column into two columns\n",
    "bp_split = dataset[bp_col].str.split('/', expand=True)\n",
    "dataset['systolic'] = bp_split[0].astype(float)\n",
    "dataset['diastolic'] = bp_split[1].astype(float)\n",
    "\n",
    "# Drop the original blood pressure column\n",
    "dataset.drop(bp_col, axis=1, inplace=True)\n"
   ]
  },
  {
   "cell_type": "code",
   "execution_count": 20,
   "id": "c1d6e5b6",
   "metadata": {},
   "outputs": [
    {
     "name": "stdout",
     "output_type": "stream",
     "text": [
      "Age: 0 very large values\n",
      "Smoke: 0 very large values\n",
      "Dia_family_mem: 0 very large values\n",
      "Height: 0 very large values\n",
      "Weight: 0 very large values\n",
      "BMI: 0 very large values\n",
      "Pulse: 0 very large values\n",
      "Date of detection: 0 very large values\n",
      "FBS: 0 very large values\n",
      "ABF: 0 very large values\n",
      "T.Chol: 0 very large values\n",
      "TG: 0 very large values\n",
      "SGPT: 0 very large values\n",
      "Creatinine: 0 very large values\n",
      "Diagnosis DM Type: 0 very large values\n",
      "systolic: 0 very large values\n",
      "diastolic: 0 very large values\n"
     ]
    }
   ],
   "source": [
    "non_float32_cols = dataset.select_dtypes(exclude=np.float32).columns\n",
    "\n",
    "# Iterate over the non-float32 columns\n",
    "for col in non_float32_cols:\n",
    "    # Find the maximum value that can be represented by float32\n",
    "    max_float32 = np.finfo(np.float32).max\n",
    "    \n",
    "    # Check if any value in the column is larger than max_float32\n",
    "    if dataset[col].max() > max_float32:\n",
    "        # Flag any such values as \"very large values\"\n",
    "        dataset[col] = np.where(dataset[col] > max_float32, 'very large value', dataset[col])\n",
    "\n",
    "# Output a report of the \"very large values\" for each column\n",
    "for col in non_float32_cols:\n",
    "    print(f\"{col}: {dataset[dataset[col]=='very large value'].shape[0]} very large values\")"
   ]
  },
  {
   "cell_type": "code",
   "execution_count": 21,
   "id": "81872eb4",
   "metadata": {},
   "outputs": [
    {
     "name": "stdout",
     "output_type": "stream",
     "text": [
      "Age: 0 infinity values\n",
      "Smoke: 0 infinity values\n",
      "Dia_family_mem: 0 infinity values\n",
      "Height: 0 infinity values\n",
      "Weight: 0 infinity values\n",
      "BMI: 0 infinity values\n",
      "Pulse: 0 infinity values\n",
      "Date of detection: 0 infinity values\n",
      "FBS: 0 infinity values\n",
      "ABF: 0 infinity values\n",
      "T.Chol: 0 infinity values\n",
      "TG: 0 infinity values\n",
      "SGPT: 0 infinity values\n",
      "Creatinine: 0 infinity values\n",
      "Diagnosis DM Type: 0 infinity values\n",
      "systolic: 0 infinity values\n",
      "diastolic: 0 infinity values\n"
     ]
    }
   ],
   "source": [
    "# Check for infinity values in the DataFrame\n",
    "is_inf = np.isinf(dataset)\n",
    "\n",
    "# Flag any cells containing infinity values as \"infinity values\"\n",
    "dataset[is_inf] = 'infinity value'\n",
    "\n",
    "# Output a report of the \"infinity values\" for each column\n",
    "for col in dataset.columns:\n",
    "    print(f\"{col}: {dataset[dataset[col]=='infinity value'].shape[0]} infinity values\")"
   ]
  },
  {
   "cell_type": "code",
   "execution_count": 22,
   "id": "ddfeb14c",
   "metadata": {},
   "outputs": [],
   "source": [
    "# Identify the columns with NaN values\n",
    "cols_with_nan = ['Age', 'Smoke', 'Dia_family_mem','Height','Weight','Pulse','Date of detection','FBS','ABF','T.Chol','TG','SGPT','Creatinine','Diagnosis DM Type','systolic','diastolic']\n",
    "\n",
    "# Replace NaN values with the mean of the column\n",
    "for col in cols_with_nan:\n",
    "    col_mean = dataset[col].mean()\n",
    "    dataset[col].fillna(col_mean, inplace=True)"
   ]
  },
  {
   "cell_type": "code",
   "execution_count": 23,
   "id": "65f6d0a5",
   "metadata": {},
   "outputs": [
    {
     "name": "stdout",
     "output_type": "stream",
     "text": [
      "Age: 0 NaN values\n",
      "Smoke: 0 NaN values\n",
      "Dia_family_mem: 0 NaN values\n",
      "Height: 0 NaN values\n",
      "Weight: 0 NaN values\n",
      "BMI: 1047946 NaN values\n",
      "Pulse: 0 NaN values\n",
      "Date of detection: 0 NaN values\n",
      "FBS: 0 NaN values\n",
      "ABF: 0 NaN values\n",
      "T.Chol: 0 NaN values\n",
      "TG: 0 NaN values\n",
      "SGPT: 0 NaN values\n",
      "Creatinine: 0 NaN values\n",
      "Diagnosis DM Type: 0 NaN values\n",
      "systolic: 0 NaN values\n",
      "diastolic: 0 NaN values\n"
     ]
    }
   ],
   "source": [
    "# Check for NaN values in the DataFrame\n",
    "is_nan = dataset.isna()\n",
    "\n",
    "# Flag any cells containing NaN values as \"NaN\"\n",
    "dataset[is_nan] = 'NaN'\n",
    "\n",
    "# Output a report of the \"NaN\" values for each column\n",
    "for col in dataset.columns:\n",
    "    print(f\"{col}: {dataset[dataset[col]=='NaN'].shape[0]} NaN values\")"
   ]
  },
  {
   "cell_type": "code",
   "execution_count": 24,
   "id": "48ca5615",
   "metadata": {},
   "outputs": [
    {
     "ename": "ValueError",
     "evalue": "Input contains NaN, infinity or a value too large for dtype('float32').",
     "output_type": "error",
     "traceback": [
      "\u001b[1;31m---------------------------------------------------------------------------\u001b[0m",
      "\u001b[1;31mValueError\u001b[0m                                Traceback (most recent call last)",
      "\u001b[1;32m~\\AppData\\Local\\Temp\\ipykernel_5368\\2948826356.py\u001b[0m in \u001b[0;36m<module>\u001b[1;34m\u001b[0m\n\u001b[0;32m      8\u001b[0m \u001b[1;31m# Instantiate and fit the model\u001b[0m\u001b[1;33m\u001b[0m\u001b[1;33m\u001b[0m\u001b[0m\n\u001b[0;32m      9\u001b[0m \u001b[0mmodel\u001b[0m \u001b[1;33m=\u001b[0m \u001b[0mRandomForestRegressor\u001b[0m\u001b[1;33m(\u001b[0m\u001b[0mn_estimators\u001b[0m\u001b[1;33m=\u001b[0m\u001b[1;36m100\u001b[0m\u001b[1;33m,\u001b[0m \u001b[0mmax_depth\u001b[0m\u001b[1;33m=\u001b[0m\u001b[1;36m10\u001b[0m\u001b[1;33m,\u001b[0m \u001b[0mrandom_state\u001b[0m\u001b[1;33m=\u001b[0m\u001b[1;36m42\u001b[0m\u001b[1;33m)\u001b[0m\u001b[1;33m\u001b[0m\u001b[1;33m\u001b[0m\u001b[0m\n\u001b[1;32m---> 10\u001b[1;33m \u001b[0mmodel\u001b[0m\u001b[1;33m.\u001b[0m\u001b[0mfit\u001b[0m\u001b[1;33m(\u001b[0m\u001b[0mX_train\u001b[0m\u001b[1;33m,\u001b[0m \u001b[0my_train\u001b[0m\u001b[1;33m)\u001b[0m\u001b[1;33m\u001b[0m\u001b[1;33m\u001b[0m\u001b[0m\n\u001b[0m\u001b[0;32m     11\u001b[0m \u001b[1;33m\u001b[0m\u001b[0m\n\u001b[0;32m     12\u001b[0m \u001b[1;31m# Make predictions on the test set\u001b[0m\u001b[1;33m\u001b[0m\u001b[1;33m\u001b[0m\u001b[0m\n",
      "\u001b[1;32m~\\anaconda3\\lib\\site-packages\\sklearn\\ensemble\\_forest.py\u001b[0m in \u001b[0;36mfit\u001b[1;34m(self, X, y, sample_weight)\u001b[0m\n\u001b[0;32m    325\u001b[0m         \u001b[1;32mif\u001b[0m \u001b[0missparse\u001b[0m\u001b[1;33m(\u001b[0m\u001b[0my\u001b[0m\u001b[1;33m)\u001b[0m\u001b[1;33m:\u001b[0m\u001b[1;33m\u001b[0m\u001b[1;33m\u001b[0m\u001b[0m\n\u001b[0;32m    326\u001b[0m             \u001b[1;32mraise\u001b[0m \u001b[0mValueError\u001b[0m\u001b[1;33m(\u001b[0m\u001b[1;34m\"sparse multilabel-indicator for y is not supported.\"\u001b[0m\u001b[1;33m)\u001b[0m\u001b[1;33m\u001b[0m\u001b[1;33m\u001b[0m\u001b[0m\n\u001b[1;32m--> 327\u001b[1;33m         X, y = self._validate_data(\n\u001b[0m\u001b[0;32m    328\u001b[0m             \u001b[0mX\u001b[0m\u001b[1;33m,\u001b[0m \u001b[0my\u001b[0m\u001b[1;33m,\u001b[0m \u001b[0mmulti_output\u001b[0m\u001b[1;33m=\u001b[0m\u001b[1;32mTrue\u001b[0m\u001b[1;33m,\u001b[0m \u001b[0maccept_sparse\u001b[0m\u001b[1;33m=\u001b[0m\u001b[1;34m\"csc\"\u001b[0m\u001b[1;33m,\u001b[0m \u001b[0mdtype\u001b[0m\u001b[1;33m=\u001b[0m\u001b[0mDTYPE\u001b[0m\u001b[1;33m\u001b[0m\u001b[1;33m\u001b[0m\u001b[0m\n\u001b[0;32m    329\u001b[0m         )\n",
      "\u001b[1;32m~\\anaconda3\\lib\\site-packages\\sklearn\\base.py\u001b[0m in \u001b[0;36m_validate_data\u001b[1;34m(self, X, y, reset, validate_separately, **check_params)\u001b[0m\n\u001b[0;32m    579\u001b[0m                 \u001b[0my\u001b[0m \u001b[1;33m=\u001b[0m \u001b[0mcheck_array\u001b[0m\u001b[1;33m(\u001b[0m\u001b[0my\u001b[0m\u001b[1;33m,\u001b[0m \u001b[1;33m**\u001b[0m\u001b[0mcheck_y_params\u001b[0m\u001b[1;33m)\u001b[0m\u001b[1;33m\u001b[0m\u001b[1;33m\u001b[0m\u001b[0m\n\u001b[0;32m    580\u001b[0m             \u001b[1;32melse\u001b[0m\u001b[1;33m:\u001b[0m\u001b[1;33m\u001b[0m\u001b[1;33m\u001b[0m\u001b[0m\n\u001b[1;32m--> 581\u001b[1;33m                 \u001b[0mX\u001b[0m\u001b[1;33m,\u001b[0m \u001b[0my\u001b[0m \u001b[1;33m=\u001b[0m \u001b[0mcheck_X_y\u001b[0m\u001b[1;33m(\u001b[0m\u001b[0mX\u001b[0m\u001b[1;33m,\u001b[0m \u001b[0my\u001b[0m\u001b[1;33m,\u001b[0m \u001b[1;33m**\u001b[0m\u001b[0mcheck_params\u001b[0m\u001b[1;33m)\u001b[0m\u001b[1;33m\u001b[0m\u001b[1;33m\u001b[0m\u001b[0m\n\u001b[0m\u001b[0;32m    582\u001b[0m             \u001b[0mout\u001b[0m \u001b[1;33m=\u001b[0m \u001b[0mX\u001b[0m\u001b[1;33m,\u001b[0m \u001b[0my\u001b[0m\u001b[1;33m\u001b[0m\u001b[1;33m\u001b[0m\u001b[0m\n\u001b[0;32m    583\u001b[0m \u001b[1;33m\u001b[0m\u001b[0m\n",
      "\u001b[1;32m~\\anaconda3\\lib\\site-packages\\sklearn\\utils\\validation.py\u001b[0m in \u001b[0;36mcheck_X_y\u001b[1;34m(X, y, accept_sparse, accept_large_sparse, dtype, order, copy, force_all_finite, ensure_2d, allow_nd, multi_output, ensure_min_samples, ensure_min_features, y_numeric, estimator)\u001b[0m\n\u001b[0;32m    962\u001b[0m         \u001b[1;32mraise\u001b[0m \u001b[0mValueError\u001b[0m\u001b[1;33m(\u001b[0m\u001b[1;34m\"y cannot be None\"\u001b[0m\u001b[1;33m)\u001b[0m\u001b[1;33m\u001b[0m\u001b[1;33m\u001b[0m\u001b[0m\n\u001b[0;32m    963\u001b[0m \u001b[1;33m\u001b[0m\u001b[0m\n\u001b[1;32m--> 964\u001b[1;33m     X = check_array(\n\u001b[0m\u001b[0;32m    965\u001b[0m         \u001b[0mX\u001b[0m\u001b[1;33m,\u001b[0m\u001b[1;33m\u001b[0m\u001b[1;33m\u001b[0m\u001b[0m\n\u001b[0;32m    966\u001b[0m         \u001b[0maccept_sparse\u001b[0m\u001b[1;33m=\u001b[0m\u001b[0maccept_sparse\u001b[0m\u001b[1;33m,\u001b[0m\u001b[1;33m\u001b[0m\u001b[1;33m\u001b[0m\u001b[0m\n",
      "\u001b[1;32m~\\anaconda3\\lib\\site-packages\\sklearn\\utils\\validation.py\u001b[0m in \u001b[0;36mcheck_array\u001b[1;34m(array, accept_sparse, accept_large_sparse, dtype, order, copy, force_all_finite, ensure_2d, allow_nd, ensure_min_samples, ensure_min_features, estimator)\u001b[0m\n\u001b[0;32m    798\u001b[0m \u001b[1;33m\u001b[0m\u001b[0m\n\u001b[0;32m    799\u001b[0m         \u001b[1;32mif\u001b[0m \u001b[0mforce_all_finite\u001b[0m\u001b[1;33m:\u001b[0m\u001b[1;33m\u001b[0m\u001b[1;33m\u001b[0m\u001b[0m\n\u001b[1;32m--> 800\u001b[1;33m             \u001b[0m_assert_all_finite\u001b[0m\u001b[1;33m(\u001b[0m\u001b[0marray\u001b[0m\u001b[1;33m,\u001b[0m \u001b[0mallow_nan\u001b[0m\u001b[1;33m=\u001b[0m\u001b[0mforce_all_finite\u001b[0m \u001b[1;33m==\u001b[0m \u001b[1;34m\"allow-nan\"\u001b[0m\u001b[1;33m)\u001b[0m\u001b[1;33m\u001b[0m\u001b[1;33m\u001b[0m\u001b[0m\n\u001b[0m\u001b[0;32m    801\u001b[0m \u001b[1;33m\u001b[0m\u001b[0m\n\u001b[0;32m    802\u001b[0m     \u001b[1;32mif\u001b[0m \u001b[0mensure_min_samples\u001b[0m \u001b[1;33m>\u001b[0m \u001b[1;36m0\u001b[0m\u001b[1;33m:\u001b[0m\u001b[1;33m\u001b[0m\u001b[1;33m\u001b[0m\u001b[0m\n",
      "\u001b[1;32m~\\anaconda3\\lib\\site-packages\\sklearn\\utils\\validation.py\u001b[0m in \u001b[0;36m_assert_all_finite\u001b[1;34m(X, allow_nan, msg_dtype)\u001b[0m\n\u001b[0;32m    112\u001b[0m         ):\n\u001b[0;32m    113\u001b[0m             \u001b[0mtype_err\u001b[0m \u001b[1;33m=\u001b[0m \u001b[1;34m\"infinity\"\u001b[0m \u001b[1;32mif\u001b[0m \u001b[0mallow_nan\u001b[0m \u001b[1;32melse\u001b[0m \u001b[1;34m\"NaN, infinity\"\u001b[0m\u001b[1;33m\u001b[0m\u001b[1;33m\u001b[0m\u001b[0m\n\u001b[1;32m--> 114\u001b[1;33m             raise ValueError(\n\u001b[0m\u001b[0;32m    115\u001b[0m                 msg_err.format(\n\u001b[0;32m    116\u001b[0m                     \u001b[0mtype_err\u001b[0m\u001b[1;33m,\u001b[0m \u001b[0mmsg_dtype\u001b[0m \u001b[1;32mif\u001b[0m \u001b[0mmsg_dtype\u001b[0m \u001b[1;32mis\u001b[0m \u001b[1;32mnot\u001b[0m \u001b[1;32mNone\u001b[0m \u001b[1;32melse\u001b[0m \u001b[0mX\u001b[0m\u001b[1;33m.\u001b[0m\u001b[0mdtype\u001b[0m\u001b[1;33m\u001b[0m\u001b[1;33m\u001b[0m\u001b[0m\n",
      "\u001b[1;31mValueError\u001b[0m: Input contains NaN, infinity or a value too large for dtype('float32')."
     ]
    }
   ],
   "source": [
    "# Load the dataset and split into X and y\n",
    "X = dataset.drop('FBS', axis=1)\n",
    "y = dataset['FBS']\n",
    "\n",
    "# Split the dataset into train and test sets\n",
    "X_train, X_test, y_train, y_test = train_test_split(X, y, test_size=0.2, random_state=42)\n",
    "\n",
    "# Instantiate and fit the model\n",
    "model = RandomForestRegressor(n_estimators=100, max_depth=10, random_state=42)\n",
    "model.fit(X_train, y_train)\n",
    "\n",
    "# Make predictions on the test set\n",
    "y_pred = model.predict(X_test)\n",
    "\n",
    "# Evaluate the model performance using mean squared error and R-squared score\n",
    "mse = mean_squared_error(y_test, y_pred)\n",
    "r2 = r2_score(y_test, y_pred)\n",
    "\n",
    "print(\"Mean squared error:\", mse)\n",
    "print(\"R-squared score:\", r2)"
   ]
  },
  {
   "cell_type": "code",
   "execution_count": null,
   "id": "8479834f",
   "metadata": {},
   "outputs": [],
   "source": []
  },
  {
   "cell_type": "code",
   "execution_count": null,
   "id": "d5ac1aa5",
   "metadata": {},
   "outputs": [],
   "source": []
  }
 ],
 "metadata": {
  "kernelspec": {
   "display_name": "Python 3 (ipykernel)",
   "language": "python",
   "name": "python3"
  },
  "language_info": {
   "codemirror_mode": {
    "name": "ipython",
    "version": 3
   },
   "file_extension": ".py",
   "mimetype": "text/x-python",
   "name": "python",
   "nbconvert_exporter": "python",
   "pygments_lexer": "ipython3",
   "version": "3.9.13"
  }
 },
 "nbformat": 4,
 "nbformat_minor": 5
}

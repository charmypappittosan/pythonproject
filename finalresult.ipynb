{
 "cells": [
  {
   "cell_type": "code",
   "execution_count": 1,
   "id": "bd9156dd",
   "metadata": {},
   "outputs": [],
   "source": [
    "import pandas\n",
    "from pandas.plotting import scatter_matrix\n",
    "import matplotlib.pyplot as plt\n",
    "from sklearn import model_selection\n",
    "from sklearn.metrics import classification_report\n",
    "from sklearn.metrics import confusion_matrix\n",
    "from sklearn.metrics import accuracy_score\n",
    "from sklearn.linear_model import LogisticRegression\n",
    "from sklearn.tree import DecisionTreeClassifier\n",
    "from sklearn.neighbors import KNeighborsClassifier\n",
    "from sklearn.discriminant_analysis import LinearDiscriminantAnalysis\n",
    "from sklearn.naive_bayes import GaussianNB\n",
    "from sklearn.svm import SVC\n",
    "from sklearn.datasets import load_iris\n",
    "from sklearn.preprocessing import LabelEncoder\n",
    "import numpy as np\n",
    "from sklearn.ensemble import RandomForestRegressor\n",
    "from sklearn.metrics import mean_squared_error, r2_score, accuracy_score, precision_score, recall_score, f1_score\n",
    "from sklearn.model_selection import train_test_split\n",
    "from sklearn.model_selection import train_test_split\n",
    "from sklearn.linear_model import LinearRegression\n",
    "from sklearn.linear_model import LogisticRegression\n",
    "from sklearn import svm\n",
    "from fancyimpute import IterativeImputer\n"
   ]
  },
  {
   "cell_type": "code",
   "execution_count": 2,
   "id": "9c609768",
   "metadata": {},
   "outputs": [],
   "source": [
    "url=r'H:\\database\\updated_datasetknn.csv'\n",
    "dataset=pandas.read_csv(url);"
   ]
  },
  {
   "cell_type": "code",
   "execution_count": 3,
   "id": "5dedd483",
   "metadata": {},
   "outputs": [
    {
     "name": "stdout",
     "output_type": "stream",
     "text": [
      "     Age  Smoke  Dia_family_mem  Height  Weight    BMI  Pulse  \\\n",
      "0     32      0               8     170    69.0  23.88   76.0   \n",
      "1     60      1               0     154    72.0  30.36   76.0   \n",
      "2     50      1               7     165    57.0  20.94   76.0   \n",
      "3     48      1               6     148    70.0  31.96   72.0   \n",
      "4     44      1               8     163    65.0  24.46   76.0   \n",
      "..   ...    ...             ...     ...     ...    ...    ...   \n",
      "664   35      1               8     152    68.0  29.43   96.0   \n",
      "665   46      1               7     169    72.0  25.21   76.0   \n",
      "666   62      1               6     150    48.0  21.33  100.0   \n",
      "667   48      1               3     160    61.0  23.83  110.0   \n",
      "668   42      1               8     154    57.0  24.03  100.0   \n",
      "\n",
      "     Date of detection   FBS  systolic  diastolic  \n",
      "0                 2012  15.7       120         80  \n",
      "1                 2013   7.3       120         80  \n",
      "2                 2019  17.1       120         80  \n",
      "3                 2015   8.5       150         90  \n",
      "4                 2019   7.9       120         80  \n",
      "..                 ...   ...       ...        ...  \n",
      "664               2013  14.0       120         80  \n",
      "665               2009  10.3       120         80  \n",
      "666               2005  18.5       120         80  \n",
      "667               2000  13.8       120         80  \n",
      "668               2012  13.4       120         80  \n",
      "\n",
      "[669 rows x 11 columns]\n"
     ]
    }
   ],
   "source": [
    "print(dataset)"
   ]
  },
  {
   "cell_type": "code",
   "execution_count": 5,
   "id": "c25e2014",
   "metadata": {},
   "outputs": [
    {
     "name": "stdout",
     "output_type": "stream",
     "text": [
      "Mean squared error: 23.995166235512166\n",
      "R-squared score: -0.009587762666187993\n"
     ]
    }
   ],
   "source": [
    "# Load the dataset and split into X and y\n",
    "X = dataset.drop('FBS', axis=1)\n",
    "y = dataset['FBS']\n",
    "\n",
    "# Split the dataset into train and test sets\n",
    "X_train, X_test, y_train, y_test = train_test_split(X, y, test_size=0.2, random_state=42)\n",
    "\n",
    "# Instantiate and fit the model\n",
    "model = RandomForestRegressor(n_estimators=100, max_depth=10, random_state=42)\n",
    "model.fit(X_train, y_train)\n",
    "\n",
    "# Make predictions on the test set\n",
    "y_pred = model.predict(X_test)\n",
    "\n",
    "# Evaluate the model performance using mean squared error and R-squared score\n",
    "mse = mean_squared_error(y_test, y_pred)\n",
    "r2 = r2_score(y_test, y_pred)\n",
    "\n",
    "print(\"Mean squared error:\", mse)\n",
    "print(\"R-squared score:\", r2)"
   ]
  },
  {
   "cell_type": "code",
   "execution_count": 7,
   "id": "23ca844f",
   "metadata": {},
   "outputs": [
    {
     "name": "stdout",
     "output_type": "stream",
     "text": [
      "Mean squared error: 24.837126056071625\n",
      "R-squared score: -0.04501291134615126\n"
     ]
    }
   ],
   "source": [
    "# Load the dataset and split into X and y\n",
    "X = dataset.drop('FBS', axis=1)\n",
    "y = dataset['FBS']\n",
    "\n",
    "# Split the dataset into train and test sets\n",
    "X_train, X_test, y_train, y_test = train_test_split(X, y, test_size=0.2, random_state=42)\n",
    "# Create a LinearRegression object and fit it to the training data\n",
    "model = LinearRegression()\n",
    "model.fit(X_train, y_train)\n",
    "\n",
    "# Use the model to make predictions on the testing data\n",
    "y_pred = model.predict(X_test)\n",
    "\n",
    "# Calculate the R-squared value of the model\n",
    "mse = mean_squared_error(y_test, y_pred)\n",
    "r2 = r2_score(y_test, y_pred)\n",
    "\n",
    "# Print the R-squared value\n",
    "print(\"Mean squared error:\", mse)\n",
    "print(\"R-squared score:\", r2)"
   ]
  },
  {
   "cell_type": "code",
   "execution_count": null,
   "id": "0f654509",
   "metadata": {},
   "outputs": [],
   "source": []
  },
  {
   "cell_type": "code",
   "execution_count": 8,
   "id": "273209d1",
   "metadata": {},
   "outputs": [
    {
     "name": "stdout",
     "output_type": "stream",
     "text": [
      "Selected features: Index(['Age', 'Dia_family_mem', 'Weight', 'BMI', 'Pulse', 'Date of detection',\n",
      "       'systolic', 'diastolic'],\n",
      "      dtype='object')\n",
      "Mean Squared Error: 24.6675\n",
      "R2 Score: -0.0379\n",
      "Coefficients: [-0.0122872  -0.         -0.04661588 -0.         -0.01388268 -0.06111589\n",
      "  0.01441843 -0.03391525 -0.03172147  0.06060836]\n",
      "Intercept: 79.93694212157544\n"
     ]
    }
   ],
   "source": [
    "from sklearn.linear_model import Lasso\n",
    "from sklearn.metrics import mean_squared_error, r2_score\n",
    "from sklearn.model_selection import train_test_split\n",
    "import numpy as np\n",
    "import pandas as pd\n",
    "\n",
    "# load the dataset\n",
    "\n",
    "\n",
    "# separate the input features and target variable\n",
    "X = dataset.drop('FBS', axis=1)\n",
    "y = dataset['FBS']\n",
    "\n",
    "# split the data into training and testing sets\n",
    "X_train, X_test, y_train, y_test = train_test_split(X, y, test_size=0.2, random_state=42)\n",
    "\n",
    "# define the Lasso regression model with alpha=0.1\n",
    "lasso = Lasso(alpha=0.1)\n",
    "\n",
    "# fit the model on the training data\n",
    "lasso.fit(X_train, y_train)\n",
    "\n",
    "# print the selected features\n",
    "print('Selected features:', X.columns[lasso.coef_ != 0])\n",
    "\n",
    "# predict on the testing data\n",
    "y_pred = lasso.predict(X_test)\n",
    "\n",
    "# evaluate the model performance using Mean Squared Error and R2 score\n",
    "mse = mean_squared_error(y_test, y_pred)\n",
    "r2 = r2_score(y_test, y_pred)\n",
    "\n",
    "print(f\"Mean Squared Error: {mse:.4f}\")\n",
    "print(f\"R2 Score: {r2:.4f}\")\n",
    "print(\"Coefficients:\", lasso.coef_)\n",
    "print(\"Intercept:\", lasso.intercept_)\n"
   ]
  },
  {
   "cell_type": "code",
   "execution_count": 9,
   "id": "a38f27de",
   "metadata": {},
   "outputs": [
    {
     "name": "stdout",
     "output_type": "stream",
     "text": [
      "Mean Squared Error: 25.8245\n",
      "R2 Score: -0.0866\n"
     ]
    }
   ],
   "source": [
    "from sklearn.linear_model import Ridge\n",
    "from sklearn.model_selection import train_test_split\n",
    "from sklearn.metrics import mean_squared_error, r2_score\n",
    "from sklearn.feature_selection import SelectFromModel\n",
    "from sklearn.preprocessing import StandardScaler\n",
    "import pandas as pd\n",
    "\n",
    "# load the dataset\n",
    "\n",
    "\n",
    "# separate the input features and target variable\n",
    "X = dataset.drop('FBS', axis=1)\n",
    "y = dataset['FBS']\n",
    "\n",
    "# split the data into training and testing sets\n",
    "X_train, X_test, y_train, y_test = train_test_split(X, y, test_size=0.2, random_state=42)\n",
    "\n",
    "# feature scaling\n",
    "scaler = StandardScaler()\n",
    "X_train_scaled = scaler.fit_transform(X_train)\n",
    "X_test_scaled = scaler.transform(X_test)\n",
    "\n",
    "# feature selection with Ridge Regression\n",
    "selector = SelectFromModel(Ridge(alpha=1.0))\n",
    "selector.fit(X_train_scaled, y_train)\n",
    "X_train_selected = selector.transform(X_train_scaled)\n",
    "X_test_selected = selector.transform(X_test_scaled)\n",
    "\n",
    "# train Ridge Regression model\n",
    "ridge_model = Ridge(alpha=1.0)\n",
    "ridge_model.fit(X_train_selected, y_train)\n",
    "\n",
    "# make predictions on test set\n",
    "y_pred = ridge_model.predict(X_test_selected)\n",
    "\n",
    "# evaluate the model using metrics\n",
    "mse = mean_squared_error(y_test, y_pred)\n",
    "r2 = r2_score(y_test, y_pred)\n",
    "\n",
    "print(\"Mean Squared Error: {:.4f}\".format(mse))\n",
    "print(\"R2 Score: {:.4f}\".format(r2))"
   ]
  },
  {
   "cell_type": "code",
   "execution_count": 10,
   "id": "6dcec617",
   "metadata": {},
   "outputs": [
    {
     "name": "stdout",
     "output_type": "stream",
     "text": [
      "Mean Squared Error: 24.3203\n",
      "R2 Score: -0.0233\n"
     ]
    }
   ],
   "source": [
    "from sklearn.feature_selection import SelectKBest, f_regression\n",
    "from sklearn.model_selection import train_test_split\n",
    "from sklearn.linear_model import LinearRegression\n",
    "from sklearn.metrics import mean_squared_error, r2_score\n",
    "import pandas as pd\n",
    "\n",
    "\n",
    "# separate the input features and target variable\n",
    "X = dataset.drop('FBS', axis=1)\n",
    "y = dataset['FBS']\n",
    "\n",
    "# split the data into training and testing sets\n",
    "X_train, X_test, y_train, y_test = train_test_split(X, y, test_size=0.2, random_state=42)\n",
    "\n",
    "# define the feature selection method and select k best features\n",
    "selector = SelectKBest(f_regression, k=5)\n",
    "\n",
    "X_train_selected = selector.fit_transform(X_train, y_train)\n",
    "X_test_selected = selector.transform(X_test)\n",
    "\n",
    "# fit a linear regression model on the selected features\n",
    "model = LinearRegression()\n",
    "model.fit(X_train_selected, y_train)\n",
    "\n",
    "# evaluate the model performance on the testing data\n",
    "y_pred = model.predict(X_test_selected)\n",
    "mse = mean_squared_error(y_test, y_pred)\n",
    "r2 = r2_score(y_test, y_pred)\n",
    "\n",
    "\n",
    "print(f\"Mean Squared Error: {mse:.4f}\")\n",
    "print(f\"R2 Score: {r2:.4f}\")\n"
   ]
  },
  {
   "cell_type": "code",
   "execution_count": 11,
   "id": "166c6cd6",
   "metadata": {},
   "outputs": [
    {
     "name": "stdout",
     "output_type": "stream",
     "text": [
      "Index(['BMI', 'Age', 'Date of detection', 'Height', 'Weight', 'Pulse',\n",
      "       'systolic', 'Dia_family_mem', 'diastolic', 'Smoke'],\n",
      "      dtype='object')\n",
      "       BMI  Age  Date of detection  Height  Weight  Pulse  systolic  \\\n",
      "0    23.88   32               2012     170    69.0   76.0       120   \n",
      "1    30.36   60               2013     154    72.0   76.0       120   \n",
      "2    20.94   50               2019     165    57.0   76.0       120   \n",
      "3    31.96   48               2015     148    70.0   72.0       150   \n",
      "4    24.46   44               2019     163    65.0   76.0       120   \n",
      "..     ...  ...                ...     ...     ...    ...       ...   \n",
      "664  29.43   35               2013     152    68.0   96.0       120   \n",
      "665  25.21   46               2009     169    72.0   76.0       120   \n",
      "666  21.33   62               2005     150    48.0  100.0       120   \n",
      "667  23.83   48               2000     160    61.0  110.0       120   \n",
      "668  24.03   42               2012     154    57.0  100.0       120   \n",
      "\n",
      "     Dia_family_mem  diastolic  Smoke  \n",
      "0                 8         80      0  \n",
      "1                 0         80      1  \n",
      "2                 7         80      1  \n",
      "3                 6         90      1  \n",
      "4                 8         80      1  \n",
      "..              ...        ...    ...  \n",
      "664               8         80      1  \n",
      "665               7         80      1  \n",
      "666               6         80      1  \n",
      "667               3         80      1  \n",
      "668               8         80      1  \n",
      "\n",
      "[669 rows x 10 columns]\n",
      "Mean Squared Error: 23.5134\n",
      "R2 Score: 0.0107\n"
     ]
    }
   ],
   "source": [
    "from sklearn.ensemble import RandomForestRegressor\n",
    "from sklearn.metrics import mean_squared_error, r2_score\n",
    "import pandas as pd\n",
    "\n",
    "\n",
    "# separate the input features and target variable\n",
    "X = dataset.drop('FBS', axis=1)\n",
    "y = dataset['FBS']\n",
    "\n",
    "# create a random forest regressor\n",
    "rf = RandomForestRegressor(n_estimators=100, random_state=42)\n",
    "\n",
    "# fit the random forest regressor on the training data\n",
    "rf.fit(X, y)\n",
    "\n",
    "# get feature importances\n",
    "importances = rf.feature_importances_\n",
    "\n",
    "# sort feature importances in descending order\n",
    "indices = np.argsort(importances)[::-1]\n",
    "\n",
    "# get names of the top 10 features\n",
    "top_features = X.columns[indices][:10]\n",
    "print(top_features)\n",
    "\n",
    "# select only the top 10 features\n",
    "X_top = X[top_features]\n",
    "\n",
    "# split the data into training and testing sets\n",
    "X_train, X_test, y_train, y_test = train_test_split(X_top, y, test_size=0.2, random_state=42)\n",
    "\n",
    "# fit the random forest regressor on the training data with top features\n",
    "rf_top = RandomForestRegressor(n_estimators=100, random_state=42)\n",
    "rf_top.fit(X_train, y_train)\n",
    "\n",
    "# predict on the testing data with top features\n",
    "y_pred = rf_top.predict(X_test)\n",
    "\n",
    "# evaluate the model performance on the testing data\n",
    "mse = mean_squared_error(y_test, y_pred)\n",
    "r2 = r2_score(y_test, y_pred)\n",
    "print(X_top)\n",
    "\n",
    "print(f\"Mean Squared Error: {mse:.4f}\")\n",
    "print(f\"R2 Score: {r2:.4f}\")\n"
   ]
  },
  {
   "cell_type": "code",
   "execution_count": 12,
   "id": "28785fc8",
   "metadata": {},
   "outputs": [
    {
     "name": "stdout",
     "output_type": "stream",
     "text": [
      "Mean Squared Error: 23.9704\n",
      "R2 Score: -0.0085\n"
     ]
    }
   ],
   "source": [
    "from sklearn.ensemble import ExtraTreesRegressor\n",
    "from sklearn.model_selection import train_test_split\n",
    "from sklearn.metrics import mean_squared_error, r2_score\n",
    "\n",
    "import pandas as pd\n",
    "\n",
    "# separate the input features and target variable\n",
    "X = dataset.drop('FBS', axis=1)\n",
    "y = dataset['FBS']\n",
    "\n",
    "# split the data into training and testing sets\n",
    "X_train, X_test, y_train, y_test = train_test_split(X, y, test_size=0.2, random_state=42)\n",
    "\n",
    "# define the model with Extra Trees Regressor\n",
    "model = ExtraTreesRegressor()\n",
    "\n",
    "# fit the model on the training data\n",
    "model.fit(X_train, y_train)\n",
    "\n",
    "# evaluate the model performance on the testing data\n",
    "y_pred = model.predict(X_test)\n",
    "mse = mean_squared_error(y_test, y_pred)\n",
    "r2 = r2_score(y_test, y_pred)\n",
    "print(f\"Mean Squared Error: {mse:.4f}\")\n",
    "print(f\"R2 Score: {r2:.4f}\")\n"
   ]
  },
  {
   "cell_type": "code",
   "execution_count": 13,
   "id": "108a8dc3",
   "metadata": {},
   "outputs": [
    {
     "name": "stdout",
     "output_type": "stream",
     "text": [
      "Linear Regression Results:\n",
      "Mean Squared Error: 24.837126056071625\n",
      "R2 Score: -0.04501291134615126\n"
     ]
    }
   ],
   "source": [
    "from sklearn.linear_model import LinearRegression\n",
    "from sklearn.model_selection import train_test_split\n",
    "from sklearn.metrics import mean_squared_error, r2_score\n",
    "import pandas as pd\n",
    "\n",
    "\n",
    "# Separate the input features and target variable\n",
    "X = dataset.drop('FBS', axis=1)\n",
    "y = dataset['FBS']\n",
    "\n",
    "# Split the data into training and testing sets\n",
    "X_train, X_test, y_train, y_test = train_test_split(X, y, test_size=0.2, random_state=42)\n",
    "\n",
    "# Create and fit the linear regression model\n",
    "linear_model = LinearRegression()\n",
    "linear_model.fit(X_train, y_train)\n",
    "\n",
    "# Make predictions on the testing set\n",
    "y_pred = linear_model.predict(X_test)\n",
    "\n",
    "# Evaluate the model\n",
    "mse = mean_squared_error(y_test, y_pred)\n",
    "r2 = r2_score(y_test, y_pred)\n",
    "\n",
    "print(\"Linear Regression Results:\")\n",
    "print(\"Mean Squared Error:\", mse)\n",
    "print(\"R2 Score:\", r2)\n"
   ]
  },
  {
   "cell_type": "code",
   "execution_count": 14,
   "id": "6db8675c",
   "metadata": {},
   "outputs": [
    {
     "name": "stdout",
     "output_type": "stream",
     "text": [
      "Non-linear Regression (Polynomial) Results:\n",
      "Mean Squared Error: 6988.823017816131\n",
      "R2 Score: -293.05214887757336\n"
     ]
    }
   ],
   "source": [
    "from sklearn.preprocessing import PolynomialFeatures\n",
    "from sklearn.linear_model import LinearRegression\n",
    "from sklearn.model_selection import train_test_split\n",
    "from sklearn.metrics import mean_squared_error, r2_score\n",
    "import pandas as pd\n",
    "\n",
    "\n",
    "# Separate the input features and target variable\n",
    "X = dataset.drop('FBS', axis=1)\n",
    "y = dataset['FBS']\n",
    "\n",
    "# Split the data into training and testing sets\n",
    "X_train, X_test, y_train, y_test = train_test_split(X, y, test_size=0.2, random_state=42)\n",
    "\n",
    "# Create polynomial features\n",
    "poly_features = PolynomialFeatures(degree=2)\n",
    "X_train_poly = poly_features.fit_transform(X_train)\n",
    "X_test_poly = poly_features.transform(X_test)\n",
    "\n",
    "# Create and fit the polynomial regression model\n",
    "poly_model = LinearRegression()\n",
    "poly_model.fit(X_train_poly, y_train)\n",
    "\n",
    "# Make predictions on the testing set\n",
    "y_pred = poly_model.predict(X_test_poly)\n",
    "\n",
    "# Evaluate the model\n",
    "mse = mean_squared_error(y_test, y_pred)\n",
    "r2 = r2_score(y_test, y_pred)\n",
    "\n",
    "print(\"Non-linear Regression (Polynomial) Results:\")\n",
    "print(\"Mean Squared Error:\", mse)\n",
    "print(\"R2 Score:\", r2)\n"
   ]
  },
  {
   "cell_type": "code",
   "execution_count": 15,
   "id": "7ed514d4",
   "metadata": {},
   "outputs": [
    {
     "name": "stdout",
     "output_type": "stream",
     "text": [
      "Non-linear Regression (Support Vector Regression) Results:\n",
      "Mean Squared Error: 25.47003257718067\n",
      "R2 Score: -0.07164221961398298\n"
     ]
    }
   ],
   "source": [
    "from sklearn.svm import SVR\n",
    "\n",
    "# Separate the input features and target variable\n",
    "X = dataset.drop('FBS', axis=1)\n",
    "y = dataset['FBS']\n",
    "\n",
    "# Create and fit the support vector regression model\n",
    "svr_model = SVR()\n",
    "svr_model.fit(X_train, y_train)\n",
    "\n",
    "# Make predictions on the testing set\n",
    "y_pred = svr_model.predict(X_test)\n",
    "\n",
    "# Evaluate the model\n",
    "mse = mean_squared_error(y_test, y_pred)\n",
    "r2 = r2_score(y_test, y_pred)\n",
    "\n",
    "print(\"Non-linear Regression (Support Vector Regression) Results:\")\n",
    "print(\"Mean Squared Error:\", mse)\n",
    "print(\"R2 Score:\", r2)\n"
   ]
  },
  {
   "cell_type": "code",
   "execution_count": null,
   "id": "6b818294",
   "metadata": {},
   "outputs": [],
   "source": []
  }
 ],
 "metadata": {
  "kernelspec": {
   "display_name": "Python 3 (ipykernel)",
   "language": "python",
   "name": "python3"
  },
  "language_info": {
   "codemirror_mode": {
    "name": "ipython",
    "version": 3
   },
   "file_extension": ".py",
   "mimetype": "text/x-python",
   "name": "python",
   "nbconvert_exporter": "python",
   "pygments_lexer": "ipython3",
   "version": "3.10.11"
  }
 },
 "nbformat": 4,
 "nbformat_minor": 5
}
